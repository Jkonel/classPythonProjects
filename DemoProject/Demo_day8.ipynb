{
 "nbformat": 4,
 "nbformat_minor": 2,
 "metadata": {
  "language_info": {
   "name": "python",
   "codemirror_mode": {
    "name": "ipython",
    "version": 3
   },
   "version": "3.8.1-final"
  },
  "orig_nbformat": 2,
  "file_extension": ".py",
  "mimetype": "text/x-python",
  "name": "python",
  "npconvert_exporter": "python",
  "pygments_lexer": "ipython3",
  "version": 3,
  "kernelspec": {
   "name": "python38164bitpytorchconda5ca5c260ccf143f3a30a360446f5e1fa",
   "display_name": "Python 3.8.1 64-bit ('pytorch': conda)"
  }
 },
 "cells": [
  {
   "cell_type": "markdown",
   "metadata": {},
   "source": [
    "# Pandas"
   ],
   "execution_count": null,
   "outputs": []
  },
  {
   "cell_type": "code",
   "execution_count": null,
   "metadata": {},
   "outputs": [],
   "source": [
    "import pandas as pd\n",
    "import numpy as np\n",
    "\n",
    "dat = pd.DataFrame(np.arange(100).reshape(10,10),index = [str(i) for i in range(10)],columns=[ str(i) for i in range(1,11)])\n",
    "\n",
    "\n",
    "dat.iloc[1,5] = 0\n",
    "dat.loc['0','5'] = 0\n",
    "dat.drop('8')\n",
    "#pd.read_csv()\n",
    "\n",
    "#dat.fillna(dat.mean())\n",
    "\n",
    "dat"
   ]
  }
 ]
}