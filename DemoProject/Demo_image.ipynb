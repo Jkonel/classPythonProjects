{
 "nbformat": 4,
 "nbformat_minor": 2,
 "metadata": {
  "language_info": {
   "name": "python",
   "codemirror_mode": {
    "name": "ipython",
    "version": 3
   },
   "version": "3.8.1-final"
  },
  "orig_nbformat": 2,
  "file_extension": ".py",
  "mimetype": "text/x-python",
  "name": "python",
  "npconvert_exporter": "python",
  "pygments_lexer": "ipython3",
  "version": 3,
  "kernelspec": {
   "name": "python38164bitpytorchconda5ca5c260ccf143f3a30a360446f5e1fa",
   "display_name": "Python 3.8.1 64-bit ('pytorch': conda)"
  }
 },
 "cells": [
  {
   "cell_type": "code",
   "execution_count": null,
   "metadata": {},
   "outputs": [],
   "source": [
    "import requests\n",
    "from lxml import etree\n",
    "import pandas as pd\n",
    "import re\n",
    "\n",
    "\n",
    "#-----------------网页爬虫------------------#\n",
    "headers = {'user-agent':'Mozilla/5.0 (Windows NT 10.0; Win64; x64) AppleWebKit/537.36 (KHTML, like Gecko) Chrome/83.0.4103.97 Safari/537.36',\n",
    "'referer':'http://m.6mh7.com/19510/',\n",
    "'host':'m.6mh7.com',\n",
    "'accept-encoding': 'gzip, deflate'}\n",
    "#url = r'https://ac.qq.com/ComicView/index/id/623654/cid/1'\n",
    "#url1 = f'https://search.jd.com/Search?keyword=ps4&enc=utf-8&wq=ps4&pvid=d33c75596e874f27957208ea177ad7c3'\n",
    "url = r'http://m.6mh7.com/19510/861991.html'\n",
    "\n",
    "respond = requests.get(url,headers = headers) \n",
    "if respond.status_code == 200:\n",
    "    with open(f'.//image_test2.html','w',encoding='utf-8') as fp:\n",
    "        fp.write(respond.text)\n"
   ]
  },
  {
   "cell_type": "code",
   "execution_count": null,
   "metadata": {},
   "outputs": [],
   "source": [
    "#-------------------文件读取--------------------#\n",
    "#html  = etree.parse('data_1.html',parser = etree.HTMLParser(encoding='utf-8'))\n",
    "html  = etree.parse('image_test1.html',parser = etree.HTMLParser(encoding='utf-8'))\n",
    "#print(html)\n",
    "\n",
    "items = html.xpath('//ul[@class = \"comic-contain\"]/')\n",
    "print(items)\n",
    "\n",
    "result =[]\n",
    "for item in items:\n",
    "    dic ={}\n",
    "    url = item.xpath('./img/@src')\n",
    "    if url:\n",
    "        url = url[0]\n",
    "    else:\n",
    "        url =None\n",
    "    dic['url'] = url\n",
    "    result.append(dic)\n",
    "\n",
    "print(result)\n"
   ]
  }
 ]
}