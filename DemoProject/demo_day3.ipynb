{
 "nbformat": 4,
 "nbformat_minor": 2,
 "metadata": {
  "language_info": {
   "name": "python",
   "codemirror_mode": {
    "name": "ipython",
    "version": 3
   },
   "version": "3.7.7-final"
  },
  "orig_nbformat": 2,
  "file_extension": ".py",
  "mimetype": "text/x-python",
  "name": "python",
  "npconvert_exporter": "python",
  "pygments_lexer": "ipython3",
  "version": 3,
  "kernelspec": {
   "name": "python271364bitclassenvconda4442dab146e34434bdc9ab716d3a943a",
   "display_name": "Python 2.7.13 64-bit ('classEnv': conda)"
  }
 },
 "cells": [
  {
   "cell_type": "code",
   "execution_count": null,
   "metadata": {},
   "outputs": [],
   "source": [
    "set01 = set([0,1,0,1,2])\n",
    "print(set01)\n",
    "\n",
    ""
   ]
  },
  {
   "cell_type": "code",
   "execution_count": null,
   "metadata": {},
   "outputs": [],
   "source": [
    "lst =[1,2,3,4,5]\n",
    "\n",
    "print(max(lst))\n",
    "print(min(lst))\n",
    "print(len(lst))"
   ]
  },
  {
   "cell_type": "code",
   "execution_count": null,
   "metadata": {},
   "outputs": [],
   "source": [
    "list('hello')   #切片\n",
    "\n",
    "sorted('hello')\n",
    "\n",
    "lst = list('hello world')\n",
    "\n",
    "lst.sort()\n",
    "print(lst)\n",
    "\n",
    "1,2.,3  #元组"
   ]
  },
  {
   "cell_type": "code",
   "execution_count": 20,
   "metadata": {},
   "outputs": [
    {
     "output_type": "stream",
     "name": "stdout",
     "text": "test:0012.2\n"
    }
   ],
   "source": [
    "print('test:%06.1f'%12.2)\n",
    "\n",
    ""
   ]
  },
  {
   "cell_type": "code",
   "execution_count": 30,
   "metadata": {},
   "outputs": [
    {
     "output_type": "execute_result",
     "data": {
      "text/plain": "['test', 'e', 'c']"
     },
     "metadata": {},
     "execution_count": 30
    }
   ],
   "source": [
    "dect = {'c','e','test'}\n",
    "res  = '/'.join(dect)\n",
    "res.split('/')"
   ]
  },
  {
   "cell_type": "code",
   "execution_count": null,
   "metadata": {},
   "outputs": [],
   "source": []
  }
 ]
}