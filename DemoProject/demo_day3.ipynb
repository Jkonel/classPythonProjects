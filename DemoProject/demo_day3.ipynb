{
 "nbformat": 4,
 "nbformat_minor": 2,
 "metadata": {
  "language_info": {
   "name": "python",
   "codemirror_mode": {
    "name": "ipython",
    "version": 3
   },
   "version": "3.8.1-final"
  },
  "orig_nbformat": 2,
  "file_extension": ".py",
  "mimetype": "text/x-python",
  "name": "python",
  "npconvert_exporter": "python",
  "pygments_lexer": "ipython3",
  "version": 3,
  "kernelspec": {
   "name": "python38164bitpytorchconda5ca5c260ccf143f3a30a360446f5e1fa",
   "display_name": "Python 3.8.1 64-bit ('pytorch': conda)"
  }
 },
 "cells": [
  {
   "cell_type": "code",
   "execution_count": 55,
   "metadata": {},
   "outputs": [
    {
     "output_type": "stream",
     "name": "stdout",
     "text": "{0, 1, 2}\n"
    }
   ],
   "source": [
    "set01 = set([0,1,0,1,2])\n",
    "print(set01)\n",
    "\n",
    ""
   ]
  },
  {
   "cell_type": "code",
   "execution_count": 56,
   "metadata": {},
   "outputs": [
    {
     "output_type": "stream",
     "name": "stdout",
     "text": "5\n1\n5\n"
    }
   ],
   "source": [
    "lst =[1,2,3,4,5]\n",
    "\n",
    "print(max(lst))\n",
    "print(min(lst))\n",
    "print(len(lst))"
   ]
  },
  {
   "cell_type": "code",
   "execution_count": 57,
   "metadata": {},
   "outputs": [
    {
     "output_type": "stream",
     "name": "stdout",
     "text": "[' ', 'd', 'e', 'h', 'l', 'l', 'l', 'o', 'o', 'r', 'w']\n"
    },
    {
     "output_type": "execute_result",
     "data": {
      "text/plain": "(1, 2.0, 3)"
     },
     "metadata": {},
     "execution_count": 57
    }
   ],
   "source": [
    "list('hello')   #切片\n",
    "\n",
    "sorted('hello')\n",
    "\n",
    "lst = list('hello world')\n",
    "\n",
    "lst.sort()\n",
    "print(lst)\n",
    "\n",
    "1,2.,3  #元组"
   ]
  },
  {
   "cell_type": "code",
   "execution_count": 58,
   "metadata": {},
   "outputs": [
    {
     "output_type": "stream",
     "name": "stdout",
     "text": "test:0012.2\n"
    }
   ],
   "source": [
    "print('test:%06.1f'%12.2)\n",
    "\n",
    ""
   ]
  },
  {
   "cell_type": "code",
   "execution_count": 59,
   "metadata": {},
   "outputs": [
    {
     "output_type": "execute_result",
     "data": {
      "text/plain": "['test', 'e', 'c']"
     },
     "metadata": {},
     "execution_count": 59
    }
   ],
   "source": [
    "dect = {'c','e','test'}\n",
    "res  = '/'.join(dect)\n",
    "res.split('/')"
   ]
  },
  {
   "cell_type": "code",
   "execution_count": 11,
   "metadata": {},
   "outputs": [
    {
     "output_type": "execute_result",
     "data": {
      "text/plain": "[{'id': '001', 'price': 15, 'date': '2020-2-4'},\n {'id': '002', 'price': 14, 'date': '2020-2-5'},\n {'id': '003', 'price': 0, 'date': '2020-6-6'},\n {'id': '004', 'price': 12.2, 'date': '2020-4-3'},\n {'id': '005', 'price': 13.5, 'date': '2020-5-4'}]"
     },
     "metadata": {},
     "execution_count": 11
    }
   ],
   "source": [
    "def divide(user):\n",
    "    d = user.get('date').split('-')\n",
    "    user['year'] = d[0]\n",
    "    user['monthday'] = '-'.join(d[1:])\n",
    "    return user\n",
    "\n",
    "def change(user):\n",
    "    if '新上架' in str(user.get('price')):\n",
    "        user['price'] = 0 \n",
    "    return user\n",
    "\n",
    "data = [\n",
    "    {'id':'001','price':15,'date':'2020-2-4'},\n",
    "    {'id':'002','price':14,'date':'2020-2-5'},\n",
    "    {'id':'003','price':'新上架','date':'2020-6-6'},\n",
    "    {'id':'004','price':12.2,'date':'2020-4-3'},\n",
    "    {'id':'005','price':13.5,'date':'2020-5-4'}\n",
    "]\n",
    "import copy\n",
    "#new_data1 = list(map(change,copy.deepcopy(data))) #深层拷贝\n",
    "#new_data2 = list(map(change,copy.copy(data)))    #浅层拷贝\n",
    "#new_data3 = list(map(change,data))               #引用\n",
    "#new_data = map(change,data)\n",
    "data"
   ]
  },
  {
   "cell_type": "code",
   "execution_count": 16,
   "metadata": {},
   "outputs": [
    {
     "output_type": "execute_result",
     "data": {
      "text/plain": "[{'id': '001', 'price': 15, 'date': '2020-2-4'},\n {'id': '002', 'price': 14, 'date': '2020-2-5'},\n {'id': '003', 'price': '新上架', 'date': '2020-6-6'},\n {'id': '004', 'price': 12.2, 'date': '2020-4-3'},\n {'id': '005', 'price': 13.5, 'date': '2020-5-4'}]"
     },
     "metadata": {},
     "execution_count": 16
    }
   ],
   "source": [
    "data = [\n",
    "    {'id':'001','price':15,'date':'2020-2-4'},\n",
    "    {'id':'002','price':14,'date':'2020-2-5'},\n",
    "    {'id':'003','price':'新上架','date':'2020-6-6'},\n",
    "    {'id':'004','price':12.2,'date':'2020-4-3'},\n",
    "    {'id':'005','price':13.5,'date':'2020-5-4'}\n",
    "]\n",
    "\n",
    "def ifNum(user):\n",
    "    return '新上架' not in str(user.get('price'))\n",
    "\n",
    "list(filter(ifNum,data))\n",
    "\n",
    "data"
   ]
  },
  {
   "cell_type": "code",
   "execution_count": 9,
   "metadata": {},
   "outputs": [
    {
     "output_type": "stream",
     "name": "stdout",
     "text": "['t', 'e', 's', 't', ' ', 'a', 'l', 'l']\n"
    }
   ],
   "source": [
    "a = list('test all')\n",
    "b = [i for i in a]\n",
    "\n",
    "print(b)"
   ]
  },
  {
   "cell_type": "code",
   "execution_count": 23,
   "metadata": {},
   "outputs": [
    {
     "output_type": "stream",
     "name": "stdout",
     "text": "[0, 2, 4, 6, 8, 10, 12, 14, 16, 18]\n[0, 1, 2, 3, 4, 5, 6, 7, 8, 9]\n"
    }
   ],
   "source": [
    "def func(a):\n",
    "    return a*2\n",
    "a = list(range(10))\n",
    "x = list(map(func,a))\n",
    "\n",
    "print(x)\n",
    "print(a)\n",
    "\n"
   ]
  },
  {
   "cell_type": "code",
   "execution_count": 5,
   "metadata": {},
   "outputs": [
    {
     "output_type": "stream",
     "name": "stdout",
     "text": "2.8722813232690143\n"
    }
   ],
   "source": [
    "import numpy as np\n",
    "a = list(range(10))\n",
    "print(np.std(a))"
   ]
  },
  {
   "cell_type": "code",
   "execution_count": 23,
   "metadata": {},
   "outputs": [],
   "source": [
    "import json\n",
    "\n",
    "data = [\n",
    "    {'id':'001','price':15,'date':'2020-2-4'},\n",
    "    {'id':'002','price':14,'date':'2020-2-5'},\n",
    "    {'id':'003','price':'新上架','date':'2020-6-6'},\n",
    "    {'id':'004','price':12.2,'date':'2020-4-3'},\n",
    "    {'id':'005','price':13.5,'date':'2020-5-4'}\n",
    "]\n",
    "\n",
    "\n",
    "with open('./demo.json','w',encoding='utf-8') as fp:\n",
    "    json.dump(data,fp)\n",
    "\n",
    "\n",
    ""
   ]
  },
  {
   "cell_type": "code",
   "execution_count": 28,
   "metadata": {},
   "outputs": [
    {
     "output_type": "execute_result",
     "data": {
      "text/plain": "[[0, 1, 2, 3, 4],\n [0, 1, 2, 3, 4],\n [0, 1, 2, 3, 4],\n [0, 1, 2, 3, 4],\n [0, 1, 2, 3, 4]]"
     },
     "metadata": {},
     "execution_count": 28
    }
   ],
   "source": [
    "## 列表递推式\n",
    "a = [ [i for i in range(5)] for j in range(5)]\n",
    "a"
   ]
  },
  {
   "cell_type": "code",
   "execution_count": 52,
   "metadata": {},
   "outputs": [
    {
     "output_type": "error",
     "ename": "TypeError",
     "evalue": "descriptor 'time' of 'datetime.datetime' object needs an argument",
     "traceback": [
      "\u001b[1;31m---------------------------------------------------------------------------\u001b[0m",
      "\u001b[1;31mTypeError\u001b[0m                                 Traceback (most recent call last)",
      "\u001b[1;32m<ipython-input-52-1749d749bbcf>\u001b[0m in \u001b[0;36m<module>\u001b[1;34m\u001b[0m\n\u001b[0;32m      3\u001b[0m \u001b[1;33m\u001b[0m\u001b[0m\n\u001b[0;32m      4\u001b[0m \u001b[0mtime\u001b[0m\u001b[1;33m.\u001b[0m\u001b[0mtime\u001b[0m\u001b[1;33m(\u001b[0m\u001b[1;33m)\u001b[0m\u001b[1;33m\u001b[0m\u001b[1;33m\u001b[0m\u001b[0m\n\u001b[1;32m----> 5\u001b[1;33m \u001b[0mdatetime\u001b[0m\u001b[1;33m.\u001b[0m\u001b[0mdatetime\u001b[0m\u001b[1;33m.\u001b[0m\u001b[0mtime\u001b[0m\u001b[1;33m(\u001b[0m\u001b[1;33m)\u001b[0m\u001b[1;33m\u001b[0m\u001b[1;33m\u001b[0m\u001b[0m\n\u001b[0m",
      "\u001b[1;31mTypeError\u001b[0m: descriptor 'time' of 'datetime.datetime' object needs an argument"
     ]
    }
   ],
   "source": [
    "import time\n",
    "import datetime\n",
    "\n",
    "time.time()\n",
    "datetime.datetime.time()"
   ]
  }
 ]
}