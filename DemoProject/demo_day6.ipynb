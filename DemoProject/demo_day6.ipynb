{
 "nbformat": 4,
 "nbformat_minor": 2,
 "metadata": {
  "language_info": {
   "name": "python",
   "codemirror_mode": {
    "name": "ipython",
    "version": 3
   },
   "version": "3.8.1-final"
  },
  "orig_nbformat": 2,
  "file_extension": ".py",
  "mimetype": "text/x-python",
  "name": "python",
  "npconvert_exporter": "python",
  "pygments_lexer": "ipython3",
  "version": 3,
  "kernelspec": {
   "name": "python38164bitpytorchconda5ca5c260ccf143f3a30a360446f5e1fa",
   "display_name": "Python 3.8.1 64-bit ('pytorch': conda)"
  }
 },
 "cells": [
  {
   "cell_type": "markdown",
   "metadata": {},
   "source": [
    "# DAY6"
   ]
  },
  {
   "cell_type": "markdown",
   "metadata": {},
   "source": [
    "1. example"
   ]
  },
  {
   "cell_type": "code",
   "execution_count": 26,
   "metadata": {},
   "outputs": [
    {
     "output_type": "stream",
     "name": "stdout",
     "text": "['1', '3']\n"
    }
   ],
   "source": [
    "import re\n",
    "\n",
    "strings = 'industries'\n",
    "\n",
    "#res = re.findall(r'industr(?:y|ies)',strings)   # 非获取匹配，不进行存储供以后使用。\n",
    "#res = re.findall(r'industr(y|ies)',strings)     # 捕获匹配，同时匹配industry或industries，但捕获y或ies。\n",
    "#res = re.findall(r'\\d(?:\\d|\\.)+',strings)       # <+> 匹配前面的子表达式一次或多次\n",
    "#res = re.findall(r'\\d(?:\\d|\\.)+?',strings)      # <+?> 非贪婪模式，尽可能少的匹配\n",
    "#res = re.findall(r'\\d(?:\\d|\\.\\d)*',strings)     # <*> 匹配前面的子表达式零次或多次\n",
    "#res = re.findall(r'\\d(?=3)','test123abc')        # 正向肯定预查,非获取匹配\n",
    "#res = re.findall(r'\\d(?!3)','test123abc')       # 正向否定预查,非获取匹配\n",
    "#res = re.findall(r'(?<=1)\\d','test123abc')      # 反向(look behind)肯定预查,非获取匹配\n",
    "#res = re.findall(r'(?<!1)\\d','test123abc')       # 反向否定预查,非获取匹配\n",
    "\n",
    "print(res)\n"
   ]
  },
  {
   "cell_type": "markdown",
   "metadata": {},
   "source": [
    "2. Regular Expression"
   ]
  },
  {
   "cell_type": "code",
   "execution_count": 46,
   "metadata": {},
   "outputs": [
    {
     "output_type": "stream",
     "name": "stdout",
     "text": "['10.5', '2.5']\n"
    }
   ],
   "source": [
    "import re\n",
    "\n",
    "res = re.findall(r'\\d+(?:\\.\\d)+','10.5-2.5万/月')\n",
    "\n",
    "print(res)"
   ]
  }
 ]
}