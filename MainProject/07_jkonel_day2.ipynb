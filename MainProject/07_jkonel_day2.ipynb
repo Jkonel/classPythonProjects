{
 "cells": [
  {
   "cell_type": "markdown",
   "metadata": {},
   "source": [
    "## homework"
   ]
  },
  {
   "cell_type": "markdown",
   "metadata": {},
   "source": [
    "1. 石头剪刀布游戏：剪刀(0) 石头(1) 布(2)"
   ]
  },
  {
   "cell_type": "code",
   "execution_count": 140,
   "metadata": {},
   "outputs": [
    {
     "name": "stdout",
     "output_type": "stream",
     "text": [
      "inport you select:2\n",
      "你输了\n",
      "对手：0\n"
     ]
    }
   ],
   "source": [
    "import random\n",
    "\n",
    "oppoinent = random.randint(0,2) # 产生0，1，2 随机整数\n",
    "my = input('inport you select:')\n",
    "\n",
    "if my == '0':\n",
    "    if oppoinent == 0:\n",
    "        print('平局')\n",
    "    elif oppoinent == 1:\n",
    "        print('你输了')\n",
    "    else:\n",
    "        print('你赢了')\n",
    "elif my == '1':\n",
    "    if oppoinent == 0:\n",
    "        print('你赢了')\n",
    "    elif oppoinent == 1:\n",
    "        print('平局')\n",
    "    else:\n",
    "        print('你输了')\n",
    "elif my == '2':\n",
    "    if oppoinent == 0:\n",
    "        print('你输了')\n",
    "    elif oppoinent == 1:\n",
    "        print('你赢了')\n",
    "    else:\n",
    "        print('平局')\n",
    "else:\n",
    "    print('输入非有效字符')\n",
    "\n",
    "print('对手：{0}'.format(oppoinent))"
   ]
  },
  {
   "cell_type": "markdown",
   "metadata": {},
   "source": [
    "2. 对于列表[1. , 34 , 2. , 3.5 , 4 , 4.3 , 102]请统计列表的最大值、最小值、平均值并输出他们各自的位置，（可以挑战方差）."
   ]
  },
  {
   "cell_type": "code",
   "execution_count": 124,
   "metadata": {},
   "outputs": [
    {
     "name": "stdout",
     "output_type": "stream",
     "text": [
      "最大值：102，位置：6\n",
      "最小值：1.0，位置：0\n",
      "均值：21.54，位置：均值不在列表中\n",
      "方差：8363.08，位置：方差不在列表中\n"
     ]
    }
   ],
   "source": [
    "lst  = [1.,34 , 2. , 3.5 , 4 , 4.3 , 102]\n",
    "\n",
    "max =[lst[0],0]\n",
    "min =[lst[0],0]\n",
    "avr =[0,0]\n",
    "var =[0,0]\n",
    "\n",
    "num =0\n",
    "\n",
    "\"\"\"最大值，最小值，均值\"\"\"\n",
    "for i in lst:\n",
    "    if i>max[0]:\n",
    "        max[0] = i\n",
    "        max[1] = lst.index(i)\n",
    "    if i<min[0]:\n",
    "        min[0] = i\n",
    "        min[1] = lst.index(i)\n",
    "    avr[0] +=i\n",
    "    num+=1\n",
    "\n",
    "avr[0] = avr[0]/num\n",
    "if avr[0] in lst:\n",
    "    avr[1] = lst.index(avr[0])\n",
    "else:\n",
    "    avr[1] = '均值不在列表中'    \n",
    "\n",
    "\"\"\"方差\"\"\"\n",
    "for i in lst:\n",
    "    var[0] += (i-avr[0])**2\n",
    "if var[0] in lst:\n",
    "    var[1] = lst.index(var[0])\n",
    "else:\n",
    "    var[1] = '方差不在列表中'\n",
    "    \n",
    "\"\"\"输出结果\"\"\"    \n",
    "print(\"最大值：{0}，位置：{1}\".format(max[0],max[1]))\n",
    "print(\"最小值：{0}，位置：{1}\".format(min[0],min[1]))\n",
    "print(\"均值：{0}，位置：{1}\".format(round(avr[0],2),avr[1]))\n",
    "print(\"方差：{0}，位置：{1}\".format(round(var[0],2),var[1]))\n"
   ]
  },
  {
   "cell_type": "markdown",
   "metadata": {},
   "source": [
    "3. 关于年龄列表[30 , 23 , 35 ,‘未填写’ , 18 , ‘未填写’ , 33 ,25]请设计一种方案去除列表的奇异值.\n",
    "\n"
   ]
  },
  {
   "cell_type": "code",
   "execution_count": 145,
   "metadata": {},
   "outputs": [
    {
     "name": "stdout",
     "output_type": "stream",
     "text": [
      "[30, 23, 35, 18, 33, 25]\n"
     ]
    }
   ],
   "source": [
    "ages = [30 , 23 , 35 ,'未填写' , 18 , '未填写' , 33 ,25]\n",
    "\n",
    "for age in ages[:]:\n",
    "    if not str(age).isdigit():\n",
    "        ages.remove(age)\n",
    "        \n",
    "print(ages)"
   ]
  },
  {
   "cell_type": "markdown",
   "metadata": {},
   "source": [
    "4. 例如变量 a=1847 设计代码实现数字反转 a=7481"
   ]
  },
  {
   "cell_type": "code",
   "execution_count": 146,
   "metadata": {},
   "outputs": [
    {
     "name": "stdout",
     "output_type": "stream",
     "text": [
      "5\n",
      "38451\n"
     ]
    }
   ],
   "source": [
    "#a = 1847\n",
    "a = 15483\n",
    "\n",
    "b=0\n",
    "number = a\n",
    "Length = 0\n",
    "while number != 0:\n",
    "    Length += 1\n",
    "    number = number//10\n",
    "\n",
    "for i in range(Length):\n",
    "    b+=(a%10)*(10**(Length - i-1))\n",
    "    a = a//10\n",
    "    \n",
    "print(Length)\n",
    "print(b)"
   ]
  }
 ],
 "metadata": {
  "kernelspec": {
   "display_name": "Python 3",
   "language": "python",
   "name": "python3"
  },
  "language_info": {
   "codemirror_mode": {
    "name": "ipython",
    "version": 3
   },
   "file_extension": ".py",
   "mimetype": "text/x-python",
   "name": "python",
   "nbconvert_exporter": "python",
   "pygments_lexer": "ipython3",
   "version": "3.7.7"
  }
 },
 "nbformat": 4,
 "nbformat_minor": 4
}
