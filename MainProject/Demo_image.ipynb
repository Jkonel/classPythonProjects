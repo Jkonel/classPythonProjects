{
 "nbformat": 4,
 "nbformat_minor": 2,
 "metadata": {
  "language_info": {
   "name": "python",
   "codemirror_mode": {
    "name": "ipython",
    "version": 3
   },
   "version": "3.8.1-final"
  },
  "orig_nbformat": 2,
  "file_extension": ".py",
  "mimetype": "text/x-python",
  "name": "python",
  "npconvert_exporter": "python",
  "pygments_lexer": "ipython3",
  "version": 3,
  "kernelspec": {
   "name": "python38164bitpytorchconda5ca5c260ccf143f3a30a360446f5e1fa",
   "display_name": "Python 3.8.1 64-bit ('pytorch': conda)"
  }
 },
 "cells": [
  {
   "cell_type": "code",
   "execution_count": null,
   "metadata": {},
   "outputs": [],
   "source": [
    "import requests\n",
    "from lxml import etree\n",
    "import pandas as pd\n",
    "import re\n",
    "\n",
    "\n",
    "#-----------------网页爬虫------------------#\n",
    "headers = {'user-agent':'Mozilla/5.0 (Windows NT 10.0; Win64; x64) AppleWebKit/537.36 (KHTML, like Gecko) Chrome/83.0.4103.97 Safari/537.36',\n",
    "'referer':'http://m.6mh7.com/19510/',\n",
    "'host':'m.6mh7.com',\n",
    "'accept-encoding': 'gzip, deflate'}\n",
    "#url = r'https://ac.qq.com/ComicView/index/id/623654/cid/1'\n",
    "#url1 = f'https://search.jd.com/Search?keyword=ps4&enc=utf-8&wq=ps4&pvid=d33c75596e874f27957208ea177ad7c3'\n",
    "url = r'http://m.6mh7.com/19510/861991.html'\n",
    "\n",
    "respond = requests.get(url,headers = headers) \n",
    "if respond.status_code == 200:\n",
    "    with open(f'.//image_test2.html','w',encoding='utf-8') as fp:\n",
    "        fp.write(respond.text)\n",
    "\n",
    "\n",
    "#-------------------文件读取--------------------#\n",
    "#html  = etree.parse('data_1.html',parser = etree.HTMLParser(encoding='utf-8'))\n",
    "html  = etree.parse('image_test1.html',parser = etree.HTMLParser(encoding='utf-8'))\n",
    "#print(html)\n",
    "\n",
    "items = html.xpath('//ul[@class = \"comic-contain\"]/')\n",
    "print(items)\n",
    "\n",
    "result =[]\n",
    "for item in items:\n",
    "    dic ={}\n",
    "    url = item.xpath('./img/@src')\n",
    "    if url:\n",
    "        url = url[0]\n",
    "    else:\n",
    "        url =None\n",
    "    dic['url'] = url\n",
    "    result.append(dic)\n",
    "\n",
    "print(result)"
   ]
  },
  {
   "cell_type": "markdown",
   "metadata": {},
   "source": [
    "## 漫画图片链接爬取"
   ]
  },
  {
   "cell_type": "code",
   "execution_count": 24,
   "metadata": {},
   "outputs": [
    {
     "output_type": "stream",
     "name": "stdout",
     "text": "http://dingyue.ws.126.net/2020/0331/cbacdaa5j00q81vlw005gc000n800xcm.jpg\nhttp://dingyue.ws.126.net/2020/0331/e731580aj00q81vlx0051c000n800xcm.jpg\nhttps://mhcdn.manhuazj.com/ManHuaKu/z/zongzhijiushifeichangkeaiflymetothemoon/1/201934788.jpg\nhttp://dingyue.ws.126.net/2020/0331/ae6c7bcbj00q81vlx00a9c001ag00xcm.jpg\nhttp://dingyue.ws.126.net/2020/0331/f812e4efj00q81vlw0066c000n800xcm.jpg\nhttp://dingyue.ws.126.net/2020/0331/edd7e50dj00q81vlw0060c000n800xcm.jpg\nhttp://dingyue.ws.126.net/2020/0331/7cfb87c7j00q81vlw006jc000n800xcm.jpg\nhttp://dingyue.ws.126.net/2020/0331/b617cb4dj00q81vlx007fc000n800xcm.jpg\nhttp://dingyue.ws.126.net/2020/0331/fdb80d4cj00q81vlw0080c000n800xcm.jpg\nhttp://dingyue.ws.126.net/2020/0331/b906bf9ej00q81vlx006wc000n800xcm.jpg\nhttp://dingyue.ws.126.net/2020/0331/eb98a6c9j00q81vlw006hc000n800xcm.jpg\nhttp://dingyue.ws.126.net/2020/0331/055c55f6j00q81vlw006nc000n800xcm.jpg\nhttp://dingyue.ws.126.net/2020/0331/11a1e2dbj00q81vlw005zc000n800xcm.jpg\nhttp://dingyue.ws.126.net/2020/0331/54deea7ej00q81vlx008tc000n800xcm.jpg\nhttp://dingyue.ws.126.net/2020/0331/e1e66503j00q81vlw007dc000n800xcm.jpg\nhttp://dingyue.ws.126.net/2020/0331/3ad3cd62j00q81vlx009zc000n800xcm.jpg\nhttp://dingyue.ws.126.net/2020/0331/c5a7eea2j00q81vlw004bc000n800xcm.jpg\nhttp://dingyue.ws.126.net/2020/0331/2498b8c1j00q81vlx0088c000n800xcm.jpg\nhttp://dingyue.ws.126.net/2020/0331/4a107d58j00q81vlw0091c000n800xcm.jpg\nhttp://dingyue.ws.126.net/2020/0331/10f07e8cj00q81vlw009jc000n800xcm.jpg\nhttp://dingyue.ws.126.net/2020/0331/45cc6d2dj00q81vlw0083c000n800xcm.jpg\nhttp://dingyue.ws.126.net/2020/0331/bd69f38ej00q81vlx008fc000n800xcm.jpg\nhttp://dingyue.ws.126.net/2020/0331/b1b1196cj00q81vlx007yc000n800xcm.jpg\nhttp://dingyue.ws.126.net/2020/0331/8172fb15j00q81vlw007vc000n800xcm.jpg\nhttp://dingyue.ws.126.net/2020/0331/b270b1c1j00q81vlw005pc000n800xcm.jpg\n"
    }
   ],
   "source": [
    "from selenium import webdriver\n",
    "from selenium.webdriver.common.keys import Keys\n",
    "from selenium.common.exceptions import TimeoutException\n",
    "from selenium.webdriver.common.action_chains import ActionChains\n",
    "import time\n",
    "\n",
    "\n",
    "browser = webdriver.Chrome()\n",
    "browser.get('http://m.6mh7.com/19510/861991.html')\n",
    "#browser.set_page_load_timeout(30)\n",
    "#browser.implicitly_wait(10)\n",
    "#browser.maximize_window()\n",
    "\n",
    "for i in range(50):\n",
    "    js = 'var action=document.documentElement.scrollTop={0}'.format(i*1000)\n",
    "    browser.execute_script(js)  # 执行脚本\n",
    "    browser.implicitly_wait(2)\n",
    "\n",
    "items = browser.find_elements_by_xpath('//div[@class = \"chapter-img-box\"]/img')\n",
    "\n",
    "for item in items:\n",
    "    url = item.get_attribute('data-original')\n",
    "    print(url)\n",
    "\n",
    "browser.quit()"
   ]
  }
 ]
}