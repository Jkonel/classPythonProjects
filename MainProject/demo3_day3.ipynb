{
 "nbformat": 4,
 "nbformat_minor": 2,
 "metadata": {
  "language_info": {
   "name": "python",
   "codemirror_mode": {
    "name": "ipython",
    "version": 3
   },
   "version": "3.8.1-final"
  },
  "orig_nbformat": 2,
  "file_extension": ".py",
  "mimetype": "text/x-python",
  "name": "python",
  "npconvert_exporter": "python",
  "pygments_lexer": "ipython3",
  "version": 3,
  "kernelspec": {
   "name": "python38164bitpytorchconda5ca5c260ccf143f3a30a360446f5e1fa",
   "display_name": "Python 3.8.1 64-bit ('pytorch': conda)"
  }
 },
 "cells": [
  {
   "cell_type": "markdown",
   "metadata": {},
   "source": [
    "# 集合 "
   ]
  },
  {
   "cell_type": "code",
   "execution_count": 2,
   "metadata": {},
   "outputs": [
    {
     "output_type": "stream",
     "name": "stdout",
     "text": "{0, 1, 2}\n"
    }
   ],
   "source": [
    "set01 = set([0,1,0,1,2])\n",
    "print(set01)"
   ]
  },
  {
   "cell_type": "code",
   "execution_count": 3,
   "metadata": {},
   "outputs": [
    {
     "output_type": "stream",
     "name": "stdout",
     "text": "['apple', 'pear']\n"
    }
   ],
   "source": [
    "list01=['apple','pear','apple']\n",
    "set02=set(list01)\n",
    "unique_list01=list(set02)\n",
    "print(unique_list01)"
   ]
  },
  {
   "cell_type": "code",
   "execution_count": 8,
   "metadata": {},
   "outputs": [
    {
     "output_type": "stream",
     "name": "stdout",
     "text": "('id', 'bal')\n(('id', '001'), ('bal', 1000))\n"
    }
   ],
   "source": [
    "dict02={\"id\":\"001\",\"bal\":1000}\n",
    "\n",
    "tuple01 = tuple(dict02)\n",
    "tuple02 = tuple(dict02.items())\n",
    "print(tuple01)\n",
    "print(tuple02)\n",
    ""
   ]
  },
  {
   "cell_type": "markdown",
   "metadata": {},
   "source": [
    "# 函数"
   ]
  },
  {
   "cell_type": "code",
   "execution_count": 9,
   "metadata": {},
   "outputs": [
    {
     "output_type": "stream",
     "name": "stdout",
     "text": "10\n"
    }
   ],
   "source": [
    "def max_num(a,b,c):\n",
    "    m=a\n",
    "    if m<b:\n",
    "        m=b\n",
    "    if m<c:\n",
    "        m=c\n",
    "    return m\n",
    "r1=max_num(1,3,10)\n",
    "print(r1)"
   ]
  },
  {
   "cell_type": "code",
   "execution_count": 13,
   "metadata": {},
   "outputs": [
    {
     "output_type": "stream",
     "name": "stdout",
     "text": "3\n25\n"
    }
   ],
   "source": [
    "def input_num():\n",
    "    con=input('please input a number')\n",
    "    num=None\n",
    "    if con=='':\n",
    "        print('输入不能为空')\n",
    "    else:\n",
    "        if con.isdigit():\n",
    "            num=int(con)\n",
    "        else:\n",
    "            print('你输入数据不合法')\n",
    "    return num\n",
    "\n",
    "n = input_num()\n",
    "if n!=None:\n",
    "    print(n+1)\n",
    "    \n",
    "m = input_num()\n",
    "if m!=None:\n",
    "    print(m**2)"
   ]
  },
  {
   "cell_type": "code",
   "execution_count": 16,
   "metadata": {},
   "outputs": [
    {
     "output_type": "execute_result",
     "data": {
      "text/plain": "2"
     },
     "metadata": {},
     "execution_count": 16
    }
   ],
   "source": [
    "#c有默认值\n",
    "def max_num(a,b,c=0): \n",
    "    m=a\n",
    "    if m<b:\n",
    "        m=b\n",
    "    if m<c:\n",
    "        m=c\n",
    "    return m\n",
    "max_num(1,2)\n",
    ""
   ]
  },
  {
   "cell_type": "markdown",
   "metadata": {},
   "source": [
    "# 常用系统函数"
   ]
  },
  {
   "cell_type": "code",
   "execution_count": null,
   "metadata": {},
   "outputs": [],
   "source": [
    "lst =[1,2,3,4,5]\n",
    "\n",
    "print(max(lst))\n",
    "print(min(lst))\n",
    "print(len(lst))"
   ]
  },
  {
   "cell_type": "code",
   "execution_count": 19,
   "metadata": {},
   "outputs": [
    {
     "output_type": "stream",
     "name": "stdout",
     "text": "['e', 'h', 'l', 'l', 'o']\n[' ', 'd', 'e', 'h', 'l', 'l', 'l', 'o', 'o', 'r', 'w']\n"
    }
   ],
   "source": [
    "list('hello')   #切片\n",
    "print(sorted('hello'))\n",
    "lst = list('hello world')\n",
    "lst.sort()\n",
    "print(lst)"
   ]
  },
  {
   "cell_type": "code",
   "execution_count": 26,
   "metadata": {},
   "outputs": [
    {
     "output_type": "stream",
     "name": "stdout",
     "text": "c/test/e\n"
    }
   ],
   "source": [
    "dect = {'c','e','test'}\n",
    "res  = '/'.join(dect)\n",
    "res.split('/')\n",
    "print(res)"
   ]
  },
  {
   "cell_type": "code",
   "execution_count": 28,
   "metadata": {},
   "outputs": [
    {
     "output_type": "execute_result",
     "data": {
      "text/plain": "[{'id': '001', 'price': 15, 'date': '2020-2-4'},\n {'id': '002', 'price': 14, 'date': '2020-2-5'},\n {'id': '003', 'price': '新上架', 'date': '2020-6-6'},\n {'id': '004', 'price': 12.2, 'date': '2020-4-3'},\n {'id': '005', 'price': 13.5, 'date': '2020-5-4'}]"
     },
     "metadata": {},
     "execution_count": 28
    }
   ],
   "source": [
    "import copy\n",
    "\n",
    "def divide(user):\n",
    "    d = user.get('date').split('-')\n",
    "    user['year'] = d[0]\n",
    "    user['monthday'] = '-'.join(d[1:])\n",
    "    return user\n",
    "\n",
    "def change(user):\n",
    "    if '新上架' in str(user.get('price')):\n",
    "        user['price'] = 0 \n",
    "    return user\n",
    "\n",
    "data = [\n",
    "    {'id':'001','price':15,'date':'2020-2-4'},\n",
    "    {'id':'002','price':14,'date':'2020-2-5'},\n",
    "    {'id':'003','price':'新上架','date':'2020-6-6'},\n",
    "    {'id':'004','price':12.2,'date':'2020-4-3'},\n",
    "    {'id':'005','price':13.5,'date':'2020-5-4'}\n",
    "]\n",
    "\n",
    "new_data1 = list(map(change,copy.deepcopy(data))) #深层拷贝\n",
    "#new_data2 = list(map(change,copy.copy(data)))    #浅层拷贝\n",
    "#new_data3 = list(map(change,data))               #'引用'\n",
    "#new_data = map(change,data)\n",
    "data"
   ]
  },
  {
   "cell_type": "code",
   "execution_count": 30,
   "metadata": {},
   "outputs": [
    {
     "output_type": "execute_result",
     "data": {
      "text/plain": "[{'id': '001', 'price': 15, 'date': '2020-2-4'},\n {'id': '002', 'price': 14, 'date': '2020-2-5'},\n {'id': '004', 'price': 12.2, 'date': '2020-4-3'},\n {'id': '005', 'price': 13.5, 'date': '2020-5-4'}]"
     },
     "metadata": {},
     "execution_count": 30
    }
   ],
   "source": [
    "data = [\n",
    "    {'id':'001','price':15,'date':'2020-2-4'},\n",
    "    {'id':'002','price':14,'date':'2020-2-5'},\n",
    "    {'id':'003','price':'新上架','date':'2020-6-6'},\n",
    "    {'id':'004','price':12.2,'date':'2020-4-3'},\n",
    "    {'id':'005','price':13.5,'date':'2020-5-4'}\n",
    "]\n",
    "\n",
    "def ifNum(user):\n",
    "    return '新上架' not in str(user.get('price'))\n",
    "\n",
    "new_data = list(filter(ifNum,data))\n",
    "\n",
    "new_data"
   ]
  },
  {
   "cell_type": "markdown",
   "metadata": {},
   "source": [
    "# 模块"
   ]
  },
  {
   "cell_type": "code",
   "execution_count": 6,
   "metadata": {},
   "outputs": [
    {
     "output_type": "stream",
     "name": "stdout",
     "text": "0.816496580927726\n0.816496580927726 0.6666666666666666\n"
    }
   ],
   "source": [
    "import numpy as np\n",
    "\n",
    "a =[1,2,3]\n",
    "\n",
    "print(np.std(a))\n",
    "\n",
    "\n",
    "from numpy import var,std\n",
    "\n",
    "print(std(a),var(a))"
   ]
  },
  {
   "cell_type": "markdown",
   "metadata": {},
   "source": [
    "# 文件读写"
   ]
  },
  {
   "cell_type": "code",
   "execution_count": 8,
   "metadata": {},
   "outputs": [
    {
     "output_type": "stream",
     "name": "stdout",
     "text": "[{'id': '001', 'price': 15, 'date': '2020-2-4'}, {'id': '002', 'price': 14, 'date': '2020-2-5'}, {'id': '003', 'price': '新上架', 'date': '2020-6-6'}, {'id': '004', 'price': 12.2, 'date': '2020-4-3'}, {'id': '005', 'price': 13.5, 'date': '2020-5-4'}]\n"
    }
   ],
   "source": [
    "import json\n",
    "\n",
    "data = [\n",
    "    {'id':'001','price':15,'date':'2020-2-4'},\n",
    "    {'id':'002','price':14,'date':'2020-2-5'},\n",
    "    {'id':'003','price':'新上架','date':'2020-6-6'},\n",
    "    {'id':'004','price':12.2,'date':'2020-4-3'},\n",
    "    {'id':'005','price':13.5,'date':'2020-5-4'}\n",
    "]\n",
    "\n",
    "with open('./demo.json','w',encoding='utf-8') as fp:\n",
    "    json.dump(data,fp)\n",
    "\n",
    "with open('./demo.json','r') as fp:\n",
    "    r2=json.load(fp)\n",
    "    print(r2)"
   ]
  },
  {
   "cell_type": "markdown",
   "metadata": {},
   "source": [
    "# 时间"
   ]
  },
  {
   "cell_type": "code",
   "execution_count": 10,
   "metadata": {},
   "outputs": [
    {
     "output_type": "stream",
     "name": "stdout",
     "text": "10963 days, 5:49:00.761015\n"
    }
   ],
   "source": [
    "from datetime import datetime\n",
    "\n",
    "# 获取当前时间\n",
    "now_time=datetime.now()\n",
    "str_end_time='2050-6-18 23:00:00'\n",
    "# 把字符串类型的时间 转化为时间类型\n",
    "end_time=datetime.strptime(str_end_time,'%Y-%m-%d %H:%M:%S')\n",
    "\n",
    "diff=end_time-now_time\n",
    "\n",
    "print(diff)"
   ]
  },
  {
   "cell_type": "code",
   "execution_count": 13,
   "metadata": {},
   "outputs": [
    {
     "output_type": "stream",
     "name": "stdout",
     "text": "5 days, 6:47:36.448088\n"
    },
    {
     "output_type": "execute_result",
     "data": {
      "text/plain": "datetime.datetime(2020, 6, 12, 17, 12, 23)"
     },
     "metadata": {},
     "execution_count": 13
    }
   ],
   "source": [
    "import time\n",
    "from datetime import datetime\n",
    "\n",
    "time.time()\n",
    "\n",
    "datetime.now()\n",
    "\n",
    "end_t = '2020/6/18'\n",
    "end_time = datetime.strptime(end_t,'%Y/%m/%d')\n",
    "now_time = datetime.now()\n",
    "\n",
    "diff = end_time -now_time\n",
    "print(diff)\n",
    "\n",
    "# 时间转换\n",
    "utc_time = time.mktime(now_time.timetuple())    #显示时间转换成时间戳\n",
    "#print(utc_time)\n",
    "datetime.fromtimestamp(utc_time)                #时间戳转换成显示时间\n"
   ]
  },
  {
   "cell_type": "markdown",
   "metadata": {},
   "source": [
    "#  随机数"
   ]
  },
  {
   "cell_type": "code",
   "execution_count": 16,
   "metadata": {},
   "outputs": [
    {
     "output_type": "execute_result",
     "data": {
      "text/plain": "[19, 59, 59, 99, 23]"
     },
     "metadata": {},
     "execution_count": 16
    }
   ],
   "source": [
    "import random\n",
    "\n",
    "random.random()\n",
    "\n",
    "random.seed(100)\n",
    "list1=[ random.randint(1,100) for i in range(5)]\n",
    "list1"
   ]
  },
  {
   "cell_type": "code",
   "execution_count": 21,
   "metadata": {},
   "outputs": [
    {
     "output_type": "stream",
     "name": "stdout",
     "text": "shanghai\n"
    }
   ],
   "source": [
    "cities = ['shanghai','shandong','suzhou','nanjing']\n",
    "\n",
    "city = random.choice(cities)\n",
    "\n",
    "print(city)"
   ]
  },
  {
   "cell_type": "code",
   "execution_count": 22,
   "metadata": {},
   "outputs": [
    {
     "output_type": "stream",
     "name": "stdout",
     "text": "['shanghai', 'suzhou']\n"
    }
   ],
   "source": [
    "cut=random.sample(cities,2)\n",
    "print(cut)"
   ]
  },
  {
   "cell_type": "code",
   "execution_count": 23,
   "metadata": {},
   "outputs": [
    {
     "output_type": "stream",
     "name": "stdout",
     "text": "['suzhou', 'shanghai', 'shandong', 'nanjing']\n"
    }
   ],
   "source": [
    "random.shuffle(cities)\n",
    "\n",
    "print(cities)"
   ]
  }
 ]
}