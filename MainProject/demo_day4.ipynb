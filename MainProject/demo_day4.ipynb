{
 "nbformat": 4,
 "nbformat_minor": 2,
 "metadata": {
  "language_info": {
   "name": "python",
   "codemirror_mode": {
    "name": "ipython",
    "version": 3
   },
   "version": "3.8.1-final"
  },
  "orig_nbformat": 2,
  "file_extension": ".py",
  "mimetype": "text/x-python",
  "name": "python",
  "npconvert_exporter": "python",
  "pygments_lexer": "ipython3",
  "version": 3,
  "kernelspec": {
   "name": "python38164bitpytorchconda5ca5c260ccf143f3a30a360446f5e1fa",
   "display_name": "Python 3.8.1 64-bit ('pytorch': conda)"
  }
 },
 "cells": [
  {
   "cell_type": "markdown",
   "metadata": {},
   "source": [
    "# 数据爬虫"
   ],
   "execution_count": null,
   "outputs": []
  },
  {
   "cell_type": "markdown",
   "metadata": {},
   "source": [
    "1. 正则表达式测试"
   ],
   "execution_count": null,
   "outputs": []
  },
  {
   "cell_type": "code",
   "execution_count": null,
   "metadata": {},
   "outputs": [],
   "source": [
    "import re\n",
    "\n",
    "url = r'https://www.runoob.com:80/html/html-tutorial.html'\n",
    "\n",
    "urls = 'a123456b'\n",
    "\n",
    "pat_nums = r'[\\d].*[\\d]'\n",
    "pat_web = r'^((https|http|ftp|rtsp|mms)?:\\/\\/)[^\\s]+'\n",
    "\n",
    "res = re.findall(pat_nums,urls)\n",
    "print(res)\n",
    "\n",
    "#res = re.match(pat,urls)\n",
    "\n",
    "#if res :\n",
    "#    print(res.string)\n",
    "#else:\n",
    "#    print(res)"
   ]
  },
  {
   "cell_type": "markdown",
   "metadata": {},
   "source": [
    "2. 网络文件获取基础"
   ],
   "execution_count": null,
   "outputs": []
  },
  {
   "cell_type": "code",
   "execution_count": null,
   "metadata": {},
   "outputs": [],
   "source": [
    "import requests\n",
    "\n",
    "# 网络头1\n",
    "header = {'User-Agent':' Mozilla/5.0 (Windows NT 10.0; Win64; x64) AppleWebKit/537.36 (KHTML, like Gecko) Chrome/83.0.4103.97 Safari/537.36','Referer':' http://baidu.com.com/',}\n",
    "\n",
    "#网络头2\n",
    "headers = {'Referer': 'https://space.bilibili.com/546195/fans/follow',\n",
    "    'Sec-Fetch-Mode': 'no-cors',\n",
    "    'User-Agent': ' Mozilla/5.0 (Windows NT 10.0; Win64; x64) AppleWebKit/537.36 (KHTML, like Gecko) Chrome/83.0.4103.97 Safari/537.36'\n",
    "    }\n",
    "\n",
    "#########网页下载，存储##########\n",
    "nums = 23\n",
    "for i in range(1,nums+1):\n",
    "    url = f'http://search.jumei.com/?filter=0-11-{i}&search=%E9%98%B2%E6%99%92%E9%9C%9C&from=&cat='\n",
    "    file_name = f'.//read_files_{i}.html'\n",
    "    respond = requests.get(url,headers) \n",
    "    if respond.status_code == 200:\n",
    "        with open(file_name,'w',encoding='utf-8') as fp:\n",
    "            fp.write(respond.text)\n",
    "    print(respond.status_code)\n"
   ]
  },
  {
   "cell_type": "code",
   "execution_count": 13,
   "metadata": {
    "tags": [
     "outputPrepend"
    ]
   },
   "outputs": [],
   "source": [
    "###########网页内容读取#############\n",
    "nums = 23\n",
    "for i in range(1,nums+1):\n",
    "    file_name = f'.//read_files_{i}.html'\n",
    "    with open(file_name,'r',encoding='utf-8') as fp:\n",
    "        content += fp.read()\n",
    "with open(r'./all_data/data.html','w',encoding='utf-8') as fp:\n",
    "    fp.write(content)\n",
    "#print(content)"
   ]
  },
  {
   "cell_type": "markdown",
   "metadata": {},
   "source": [
    "3. xml\n",
    "\n",
    "\n"
   ]
  },
  {
   "cell_type": "code",
   "execution_count": 27,
   "metadata": {},
   "outputs": [
    {
     "output_type": "stream",
     "name": "stdout",
     "text": "Everyday Italian\nHarry Potter\nXQuery Kick Start\nLearning XML\n['en', 'en', 'en', 'en']\n"
    }
   ],
   "source": [
    "from lxml import etree\n",
    "\n",
    "html  = etree.parse('data.xml')\n",
    "book = html.xpath('/bookstore/book')\n",
    "#print(len(book))\n",
    "for b in book:\n",
    "    title = b.xpath('title')[0].text\n",
    "    print(title)\n",
    "\n",
    "\n",
    "ts = html.xpath('//title/@lang')\n",
    "print(ts)"
   ]
  },
  {
   "cell_type": "markdown",
   "metadata": {},
   "source": [
    "1. 编写代码实现10以内的偶数之和"
   ]
  },
  {
   "cell_type": "code",
   "execution_count": null,
   "metadata": {},
   "outputs": [],
   "source": [
    "sum = 0\n",
    "for i in range(0,10,2):\n",
    "    print(i)\n",
    "    sum += i\n",
    "print(sum)"
   ]
  },
  {
   "cell_type": "markdown",
   "metadata": {},
   "source": [
    "2. ⽤两种⽅法实现字符串s=\"i love python\"反转。"
   ]
  },
  {
   "cell_type": "code",
   "execution_count": 49,
   "metadata": {},
   "outputs": [
    {
     "output_type": "stream",
     "name": "stdout",
     "text": "nohtyp evol i\nnohtyp evol i\n"
    }
   ],
   "source": [
    "s=\"i love python\"\n",
    "s01 = s[::-1]\n",
    "print(s01)\n",
    "\n",
    "s_in = list(s)\n",
    "s_in.reverse()\n",
    "s02 = \"\".join(s_in)\n",
    "print(s02)\n",
    "\n",
    "\n"
   ]
  },
  {
   "cell_type": "markdown",
   "metadata": {},
   "source": [
    "3. info=\"⼩明的语⽂考了90分，数学考了56.5分，英语考了50分\"，请统计⼩明有⼏⻔课不及格？⼩明的平\n",
    "均分是多少？"
   ]
  },
  {
   "cell_type": "code",
   "execution_count": 93,
   "metadata": {},
   "outputs": [
    {
     "output_type": "stream",
     "name": "stdout",
     "text": "['90', '56.5', '50']\n不及格：2, 平均分：65.5\n"
    }
   ],
   "source": [
    "import re\n",
    "\n",
    "info=\"⼩明的语⽂考了90分，数学考了56.5分，英语考了50分\"\n",
    "\n",
    "res = re.findall(r'([\\d.]+)',info)\n",
    "\n",
    "print(res)\n",
    "\n",
    "falses = 0\n",
    "ave = 0\n",
    "\n",
    "for i in res:\n",
    "    if float(i)<60:\n",
    "        falses +=1\n",
    "    ave +=float(i)\n",
    "ave /=len(res)\n",
    "\n",
    "print('不及格：{0}, 平均分：{1}'.format(falses,ave))\n",
    ""
   ]
  },
  {
   "cell_type": "markdown",
   "metadata": {},
   "source": [
    "\n",
    "s = \"ajldjlajfdljfddd\"，去重并从⼩到⼤排序输出\"adfjl\"\n",
    "\n",
    "\n"
   ]
  },
  {
   "cell_type": "code",
   "execution_count": 75,
   "metadata": {},
   "outputs": [
    {
     "output_type": "stream",
     "name": "stdout",
     "text": "adfjl\n"
    }
   ],
   "source": [
    "s = \"ajldjlajfdljfddd\"\n",
    "\n",
    "l = list(s)\n",
    "set01 = set(l)\n",
    "l2 = list(set01)\n",
    "l2.sort()\n",
    "res = ''.join(l2)\n",
    "\n",
    "print(res)"
   ]
  },
  {
   "cell_type": "markdown",
   "metadata": {},
   "source": [
    "5. 列表推导式求列表所有奇数并构造新列表， a = \\[1, 2, 3, 4, 5, 6, 7, 8, 9, 10\\]"
   ]
  },
  {
   "cell_type": "code",
   "execution_count": 79,
   "metadata": {},
   "outputs": [
    {
     "output_type": "stream",
     "name": "stdout",
     "text": "[1, 3, 5, 7, 9]\n"
    }
   ],
   "source": [
    "a = [1, 2, 3, 4, 5, 6, 7, 8, 9, 10]\n",
    "\n",
    "b = [i for i in a if i % 2]\n",
    "\n",
    "print(b)"
   ]
  }
 ]
}