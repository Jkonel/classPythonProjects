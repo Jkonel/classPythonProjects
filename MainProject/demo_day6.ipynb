{
 "nbformat": 4,
 "nbformat_minor": 2,
 "metadata": {
  "language_info": {
   "name": "python",
   "codemirror_mode": {
    "name": "ipython",
    "version": 3
   },
   "version": "3.8.1-final"
  },
  "orig_nbformat": 2,
  "file_extension": ".py",
  "mimetype": "text/x-python",
  "name": "python",
  "npconvert_exporter": "python",
  "pygments_lexer": "ipython3",
  "version": 3,
  "kernelspec": {
   "name": "python38164bitpytorchconda5ca5c260ccf143f3a30a360446f5e1fa",
   "display_name": "Python 3.8.1 64-bit ('pytorch': conda)"
  }
 },
 "cells": [
  {
   "cell_type": "markdown",
   "metadata": {},
   "source": [
    "# DAY6"
   ],
   "execution_count": null,
   "outputs": []
  },
  {
   "cell_type": "markdown",
   "metadata": {},
   "source": [
    "1. example"
   ],
   "execution_count": null,
   "outputs": []
  },
  {
   "cell_type": "code",
   "execution_count": null,
   "metadata": {},
   "outputs": [],
   "source": [
    "import re\n",
    "\n",
    "strings = 'industries'\n",
    "\n",
    "#res = re.findall(r'industr(?:y|ies)',strings)   # 非获取匹配，不进行存储供以后使用。\n",
    "#res = re.findall(r'industr(y|ies)',strings)     # 捕获匹配，同时匹配industry或industries，但捕获y或ies。\n",
    "#res = re.findall(r'\\d(?:\\d|\\.)+',strings)       # <+> 匹配前面的子表达式一次或多次\n",
    "#res = re.findall(r'\\d(?:\\d|\\.)+?',strings)      # <+?> 非贪婪模式，尽可能少的匹配\n",
    "#res = re.findall(r'\\d(?:\\d|\\.\\d)*',strings)     # <*> 匹配前面的子表达式零次或多次\n",
    "#res = re.findall(r'\\d(?=3)','test123abc')        # 正向肯定预查,非获取匹配\n",
    "#res = re.findall(r'\\d(?!3)','test123abc')       # 正向否定预查,非获取匹配\n",
    "#res = re.findall(r'(?<=1)\\d','test123abc')      # 反向(look behind)肯定预查,非获取匹配\n",
    "#res = re.findall(r'(?<!1)\\d','test123abc')       # 反向否定预查,非获取匹配\n",
    "\n",
    "print(res)\n"
   ]
  },
  {
   "cell_type": "markdown",
   "metadata": {},
   "source": [
    "2. Regular Expression"
   ],
   "execution_count": null,
   "outputs": []
  },
  {
   "cell_type": "code",
   "execution_count": null,
   "metadata": {},
   "outputs": [],
   "source": [
    "import re\n",
    "\n",
    "res = re.findall(r'\\d+(?:\\.\\d)+','10.5-2.5万/月')\n",
    "print(res)"
   ]
  },
  {
   "cell_type": "markdown",
   "metadata": {},
   "source": [
    "# 作业文件"
   ],
   "execution_count": null,
   "outputs": []
  },
  {
   "cell_type": "code",
   "execution_count": null,
   "metadata": {},
   "outputs": [],
   "source": [
    "import requests\n",
    "from lxml import etree\n",
    "import pandas as pd\n",
    "import re\n",
    "from datetime import datetime\n",
    "import time\n",
    "\n",
    "# 时间戳函数\n",
    "def text_time():\n",
    "    tim = time.time()\n",
    "    res = datetime.fromtimestamp(tim) \n",
    "    strc = 'time of now:{0}-{1}-{2}-{3}:{4}:{5}:{6}'.format(res.year,res.month,res.day,res.hour,res.minute,res.second,res.microsecond)\n",
    "    return strc\n",
    "    \n",
    "# str转float方法\n",
    "def cpmlexStr2nums(str):\n",
    "    result = re.findall(r'\\d(?:\\d|\\.)+',str)\n",
    "    return float(result[0])\n",
    "\n",
    "#-----------------网页爬虫------------------#\n",
    "headers = {'user-agent':'Mozilla/5.0'}\n",
    "\n",
    "with open(f'./htmls/test.txt','w') as pp:\n",
    "    pp.write('记录文件:{text_time()}\\n')\n",
    "\n",
    "for i in range(1,49):\n",
    "    url = f'http://search.jumei.com/?filter=0-11-{i}&search=%E7%9C%BC%E9%9C%9C&from=search_toplist_%E7%9C%BC%E9%9C%9C_word_pos_4&cat='\n",
    "    respond = requests.get(url,headers = headers) \n",
    "    if respond.status_code == 200:\n",
    "        with open(f'./htmls/data_{i}.html','w',encoding='utf-8') as fp:\n",
    "            fp.write(respond.text)\n",
    "        with open(f'./htmls/test.txt','a') as pp:\n",
    "            pp.write(text_time()+'_data_{0}.html'.format(i)+'写入成功！\\n')\n",
    "\n",
    "\n",
    "#-------------------文件读取--------------------#\n",
    "data = []\n",
    "\n",
    "for i in range(1,49):\n",
    "    html = etree.parse(f'./htmls/data_{i}.html',parser = etree.HTMLParser(encoding='utf-8'))\n",
    "    print(f'./htmls/data_{i}.html')\n",
    "    items = html.xpath('//div[@class = \"products_wrap\"]/ul/li')\n",
    "    #-------------------文件解析------------------#\n",
    "    for item in items:\n",
    "        dic = {}\n",
    "        price = item.xpath('.//div[@class = \"s_l_view_bg\"]/div[@class = \"search_list_price\"]/span/text()')\n",
    "        title = item.xpath('.//div[@class = \"s_l_name\"]/a/text()')\n",
    "        #inside = item.xpath('.//div[@class = \"s_l_name\"]/a/@href')\n",
    "        #shop = item.xpath('./div[@class=\"p-shop\"]/span/a/text()')\n",
    "        #comment = item.xpath('./div[@class=\"p-commit\"]/strong/a')\n",
    "\n",
    "        if price:\n",
    "            price = cpmlexStr2nums(price[0])\n",
    "        else:\n",
    "            price =None\n",
    "        if title:\n",
    "            title = ''.join(''.join(re.findall(r'[\\d\\w\\S]+',title[0])))\n",
    "        else:\n",
    "            title = None\n",
    "    \n",
    "        dic['price'] = price\n",
    "        dic['title'] = title\n",
    "        data.append(dic)\n",
    "\n",
    "#---------------文件保存----------------#\n",
    "df = pd.DataFrame(data)\n",
    "df.to_csv('./htmls/data.csv',index = 0,na_rep = 'NA')\n"
   ]
  },
  {
   "cell_type": "markdown",
   "metadata": {},
   "source": [
    "## test "
   ],
   "execution_count": null,
   "outputs": []
  },
  {
   "cell_type": "code",
   "execution_count": 51,
   "metadata": {
    "tags": [
     "outputPrepend",
     "outputPrepend",
     "outputPrepend",
     "outputPrepend",
     "outputPrepend",
     "outputPrepend",
     "outputPrepend",
     "outputPrepend",
     "outputPrepend",
     "outputPrepend",
     "outputPrepend",
     "outputPrepend"
    ]
   },
   "outputs": [
    {
     "output_type": "stream",
     "name": "stdout",
     "text": "5\nhttp://item.jumei.com/2517726.html?from=sr_%E7%9C%BC%E9%9C%9C_41_16\nhttp://item.jumeiglobal.com/ht20200401153516p5167218.html?from=sr_%E7%9C%BC%E9%9C%9C_41_17\nhttp://item.jumeiglobal.com/401504.html?from=sr_%E7%9C%BC%E9%9C%9C_41_18\nhttp://item.jumeiglobal.com/ht20200424070014p5058924.html?from=sr_%E7%9C%BC%E9%9C%9C_41_19\nhttp://item.jumeiglobal.com/397002.html?from=sr_%E7%9C%BC%E9%9C%9C_41_20\nhttp://item.jumeiglobal.com/ht181128p1316655t2zh.html?from=sr_%E7%9C%BC%E9%9C%9C_41_21\nhttp://item.jumei.com/1593705.html?from=sr_%E7%9C%BC%E9%9C%9C_41_22\nhttp://item.jumei.com/5084074.html?from=sr_%E7%9C%BC%E9%9C%9C_41_23\nhttp://item.jumeiglobal.com/207100.html?from=sr_%E7%9C%BC%E9%9C%9C_41_24\nhttp://item.jumeiglobal.com/125274.html?from=sr_%E7%9C%BC%E9%9C%9C_41_25\nhttp://item.jumei.com/df20060112577252p5164174.html?from=sr_%E7%9C%BC%E9%9C%9C_41_26\nhttp://item.jumeiglobal.com/284338.html?from=sr_%E7%9C%BC%E9%9C%9C_41_27\nhttp://item.jumei.com/5144914.html?from=sr_%E7%9C%BC%E9%9C%9C_41_28\nhttp://item.jumei.com/d190228p998340zc.html?from=sr_%E7%9C%BC%E9%9C%9C_41_29\nhttp://item.jumeiglobal.com/44749.html?from=sr_%E7%9C%BC%E9%9C%9C_41_30\nhttp://item.jumeiglobal.com/389054.html?from=sr_%E7%9C%BC%E9%9C%9C_41_31\nhttp://item.jumeiglobal.com/ht20200417151516p5048222.html?from=sr_%E7%9C%BC%E9%9C%9C_41_32\nhttp://item.jumeiglobal.com/158368.html?from=sr_%E7%9C%BC%E9%9C%9C_41_33\nhttp://item.jumeiglobal.com/158374.html?from=sr_%E7%9C%BC%E9%9C%9C_41_34\nhttp://item.jumei.com/d181209p509686zc.html?from=sr_%E7%9C%BC%E9%9C%9C_41_35\nhttp://item.jumei.com/df20060112578026p5105262.html?from=sr_%E7%9C%BC%E9%9C%9C_41_36\n./htmls/data_42.html\nhttp://item.jumeiglobal.com/158372.html?from=sr_%E7%9C%BC%E9%9C%9C_42_1\nhttp://item.jumeiglobal.com/158382.html?from=sr_%E7%9C%BC%E9%9C%9C_42_2\nhttp://item.jumei.com/df20060112577258p5105446.html?from=sr_%E7%9C%BC%E9%9C%9C_42_3\nhttp://item.jumei.com/df20060112577989p5105440.html?from=sr_%E7%9C%BC%E9%9C%9C_42_4\nhttp://item.jumeiglobal.com/46199.html?from=sr_%E7%9C%BC%E9%9C%9C_42_5\nhttp://item.jumei.com/d181108p4099890zc.html?from=sr_%E7%9C%BC%E9%9C%9C_42_6\nhttp://item.jumeiglobal.com/158380.html?from=sr_%E7%9C%BC%E9%9C%9C_42_7\nhttp://item.jumeiglobal.com/370546.html?from=sr_%E7%9C%BC%E9%9C%9C_42_8\nhttp://item.jumei.com/df20061112632151p5143314.html?from=sr_%E7%9C%BC%E9%9C%9C_42_9\nhttp://item.jumeiglobal.com/ht20191206171539p5084324.html?from=sr_%E7%9C%BC%E9%9C%9C_42_10\nhttp://item.jumeiglobal.com/158370.html?from=sr_%E7%9C%BC%E9%9C%9C_42_11\nhttp://item.jumei.com/816921.html?from=sr_%E7%9C%BC%E9%9C%9C_42_12\nhttp://item.jumeiglobal.com/358838.html?from=sr_%E7%9C%BC%E9%9C%9C_42_13\nhttp://item.jumei.com/d181209p3403840zc.html?from=sr_%E7%9C%BC%E9%9C%9C_42_14\nhttp://item.jumeiglobal.com/44727.html?from=sr_%E7%9C%BC%E9%9C%9C_42_15\nhttp://item.jumeiglobal.com/ht20191012172505p4957688.html?from=sr_%E7%9C%BC%E9%9C%9C_42_16\nhttp://item.jumeiglobal.com/409332.html?from=sr_%E7%9C%BC%E9%9C%9C_42_17\nhttp://item.jumei.com/5129676.html?from=sr_%E7%9C%BC%E9%9C%9C_42_18\nhttp://item.jumeiglobal.com/63173.html?from=sr_%E7%9C%BC%E9%9C%9C_42_19\nhttp://item.jumei.com/5129664.html?from=sr_%E7%9C%BC%E9%9C%9C_42_20\nhttp://item.jumeiglobal.com/104960.html?from=sr_%E7%9C%BC%E9%9C%9C_42_21\nhttp://item.jumeiglobal.com/365284.html?from=sr_%E7%9C%BC%E9%9C%9C_42_22\nhttp://item.jumeiglobal.com/ht20200324140508p5094988.html?from=sr_%E7%9C%BC%E9%9C%9C_42_23\nhttp://item.jumeiglobal.com/397968.html?from=sr_%E7%9C%BC%E9%9C%9C_42_24\nhttp://item.jumeiglobal.com/ht20191014162328p5003014.html?from=sr_%E7%9C%BC%E9%9C%9C_42_25\nhttp://item.jumeiglobal.com/398062.html?from=sr_%E7%9C%BC%E9%9C%9C_42_26\nhttp://item.jumeiglobal.com/249546.html?from=sr_%E7%9C%BC%E9%9C%9C_42_27\nhttp://item.jumeiglobal.com/44720.html?from=sr_%E7%9C%BC%E9%9C%9C_42_28\nhttp://item.jumeiglobal.com/394100.html?from=sr_%E7%9C%BC%E9%9C%9C_42_29\nhttp://item.jumeiglobal.com/366062.html?from=sr_%E7%9C%BC%E9%9C%9C_42_30\nhttp://item.jumeiglobal.com/5551.html?from=sr_%E7%9C%BC%E9%9C%9C_42_31\nhttp://item.jumeiglobal.com/44742.html?from=sr_%E7%9C%BC%E9%9C%9C_42_32\nhttp://item.jumei.com/184725.html?from=sr_%E7%9C%BC%E9%9C%9C_42_33\nhttp://item.jumeiglobal.com/411756.html?from=sr_%E7%9C%BC%E9%9C%9C_42_34\nhttp://item.jumeiglobal.com/ht20200506152013p5165670.html?from=sr_%E7%9C%BC%E9%9C%9C_42_35\nhttp://item.jumeiglobal.com/16.html?from=sr_%E7%9C%BC%E9%9C%9C_42_36\n./htmls/data_43.html\nhttp://item.jumeiglobal.com/ht20200330150526p5022148.html?from=sr_%E7%9C%BC%E9%9C%9C_43_1\nhttp://item.jumeiglobal.com/44752.html?from=sr_%E7%9C%BC%E9%9C%9C_43_2\nhttp://item.jumeiglobal.com/ht20200204155506p4965708.html?from=sr_%E7%9C%BC%E9%9C%9C_43_3\nhttp://item.jumei.com/4522118.html?from=sr_%E7%9C%BC%E9%9C%9C_43_4\nhttp://item.jumeiglobal.com/264742.html?from=sr_%E7%9C%BC%E9%9C%9C_43_5\nhttp://item.jumeiglobal.com/424726.html?from=sr_%E7%9C%BC%E9%9C%9C_43_6\nhttp://item.jumei.com/1549926.html?from=sr_%E7%9C%BC%E9%9C%9C_43_7\nhttp://item.jumeiglobal.com/321572.html?from=sr_%E7%9C%BC%E9%9C%9C_43_8\nhttp://item.jumei.com/5144194.html?from=sr_%E7%9C%BC%E9%9C%9C_43_9\nhttp://item.jumei.com/3167476.html?from=sr_%E7%9C%BC%E9%9C%9C_43_10\nhttp://item.jumei.com/d170305p3098302zc.html?from=sr_%E7%9C%BC%E9%9C%9C_43_11\nhttp://item.jumeiglobal.com/397128.html?from=sr_%E7%9C%BC%E9%9C%9C_43_12\nhttp://item.jumeiglobal.com/1419.html?from=sr_%E7%9C%BC%E9%9C%9C_43_13\nhttp://item.jumeiglobal.com/165748.html?from=sr_%E7%9C%BC%E9%9C%9C_43_14\nhttp://item.jumei.com/5129340.html?from=sr_%E7%9C%BC%E9%9C%9C_43_15\nhttp://item.jumei.com/d190228p4274008zc.html?from=sr_%E7%9C%BC%E9%9C%9C_43_16\nhttp://item.jumeiglobal.com/1688.html?from=sr_%E7%9C%BC%E9%9C%9C_43_17\nhttp://item.jumeiglobal.com/ht20200608160011p4934134.html?from=sr_%E7%9C%BC%E9%9C%9C_43_18\nhttp://item.jumeiglobal.com/ht20200322223508p5125630.html?from=sr_%E7%9C%BC%E9%9C%9C_43_19\nhttp://item.jumeiglobal.com/213576.html?from=sr_%E7%9C%BC%E9%9C%9C_43_20\nhttp://item.jumei.com/726150.html?from=sr_%E7%9C%BC%E9%9C%9C_43_21\nhttp://item.jumei.com/5116018.html?from=sr_%E7%9C%BC%E9%9C%9C_43_22\nhttp://item.jumei.com/621364.html?from=sr_%E7%9C%BC%E9%9C%9C_43_23\nhttp://item.jumei.com/4213838.html?from=sr_%E7%9C%BC%E9%9C%9C_43_24\nhttp://item.jumeiglobal.com/329546.html?from=sr_%E7%9C%BC%E9%9C%9C_43_25\nhttp://item.jumei.com/d190228p3192641zc.html?from=sr_%E7%9C%BC%E9%9C%9C_43_26\nhttp://item.jumei.com/d190228p3269390zc.html?from=sr_%E7%9C%BC%E9%9C%9C_43_27\nhttp://item.jumei.com/d170102p3098303.html?from=sr_%E7%9C%BC%E9%9C%9C_43_28\nhttp://item.jumei.com/d180517p632644zc.html?from=sr_%E7%9C%BC%E9%9C%9C_43_29\nhttp://item.jumeiglobal.com/228962.html?from=sr_%E7%9C%BC%E9%9C%9C_43_30\nhttp://item.jumei.com/1003240.html?from=sr_%E7%9C%BC%E9%9C%9C_43_31\nhttp://item.jumeiglobal.com/128902.html?from=sr_%E7%9C%BC%E9%9C%9C_43_32\nhttp://item.jumeiglobal.com/ht20200214172003p5125642.html?from=sr_%E7%9C%BC%E9%9C%9C_43_33\nhttp://item.jumeiglobal.com/ht20200408173446p5056894.html?from=sr_%E7%9C%BC%E9%9C%9C_43_34\nhttp://item.jumeiglobal.com/ht20200330160022p5074084.html?from=sr_%E7%9C%BC%E9%9C%9C_43_35\nhttp://item.jumei.com/5056386.html?from=sr_%E7%9C%BC%E9%9C%9C_43_36\n./htmls/data_44.html\nhttp://item.jumeiglobal.com/11355.html?from=sr_%E7%9C%BC%E9%9C%9C_44_1\nhttp://item.jumeiglobal.com/386152.html?from=sr_%E7%9C%BC%E9%9C%9C_44_2\nhttp://item.jumeiglobal.com/ht20200304102511p5136988.html?from=sr_%E7%9C%BC%E9%9C%9C_44_3\nhttp://item.jumei.com/4900232.html?from=sr_%E7%9C%BC%E9%9C%9C_44_4\nhttp://item.jumei.com/4897292.html?from=sr_%E7%9C%BC%E9%9C%9C_44_5\nhttp://item.jumeiglobal.com/392636.html?from=sr_%E7%9C%BC%E9%9C%9C_44_6\nhttp://item.jumei.com/5084098.html?from=sr_%E7%9C%BC%E9%9C%9C_44_7\nhttp://item.jumei.com/5174544.html?from=sr_%E7%9C%BC%E9%9C%9C_44_8\nhttp://item.jumei.com/5139316.html?from=sr_%E7%9C%BC%E9%9C%9C_44_9\nhttp://item.jumei.com/5166540.html?from=sr_%E7%9C%BC%E9%9C%9C_44_10\nhttp://item.jumeiglobal.com/1687.html?from=sr_%E7%9C%BC%E9%9C%9C_44_11\nhttp://item.jumei.com/4774990.html?from=sr_%E7%9C%BC%E9%9C%9C_44_12\nhttp://item.jumeiglobal.com/422820.html?from=sr_%E7%9C%BC%E9%9C%9C_44_13\nhttp://item.jumei.com/df20061412640814p4620906.html?from=sr_%E7%9C%BC%E9%9C%9C_44_14\nhttp://item.jumeiglobal.com/ht20191220154007p5109184.html?from=sr_%E7%9C%BC%E9%9C%9C_44_15\nhttp://item.jumei.com/4932038.html?from=sr_%E7%9C%BC%E9%9C%9C_44_16\nhttp://item.jumeiglobal.com/ht20200424114017p5058944.html?from=sr_%E7%9C%BC%E9%9C%9C_44_17\nhttp://item.jumeiglobal.com/9498.html?from=sr_%E7%9C%BC%E9%9C%9C_44_18\nhttp://item.jumei.com/212004.html?from=sr_%E7%9C%BC%E9%9C%9C_44_19\nhttp://item.jumeiglobal.com/ht170905p2258600t2.html?from=sr_%E7%9C%BC%E9%9C%9C_44_20\nhttp://item.jumeiglobal.com/ht180711p853441t2.html?from=sr_%E7%9C%BC%E9%9C%9C_44_21\nhttp://item.jumeiglobal.com/4389.html?from=sr_%E7%9C%BC%E9%9C%9C_44_22\nhttp://item.jumei.com/4285000.html?from=sr_%E7%9C%BC%E9%9C%9C_44_23\nhttp://item.jumeiglobal.com/416686.html?from=sr_%E7%9C%BC%E9%9C%9C_44_24\nhttp://item.jumeiglobal.com/419898.html?from=sr_%E7%9C%BC%E9%9C%9C_44_25\nhttp://item.jumei.com/5115976.html?from=sr_%E7%9C%BC%E9%9C%9C_44_26\nhttp://item.jumei.com/4874452.html?from=sr_%E7%9C%BC%E9%9C%9C_44_27\nhttp://item.jumeiglobal.com/1243.html?from=sr_%E7%9C%BC%E9%9C%9C_44_28\nhttp://item.jumeiglobal.com/1425.html?from=sr_%E7%9C%BC%E9%9C%9C_44_29\nhttp://item.jumei.com/1036098.html?from=sr_%E7%9C%BC%E9%9C%9C_44_30\nhttp://item.jumeiglobal.com/ht20200316101011p5020302.html?from=sr_%E7%9C%BC%E9%9C%9C_44_31\nhttp://item.jumei.com/5084092.html?from=sr_%E7%9C%BC%E9%9C%9C_44_32\nhttp://item.jumeiglobal.com/394110.html?from=sr_%E7%9C%BC%E9%9C%9C_44_33\nhttp://item.jumeiglobal.com/ht20200325181542p5052688.html?from=sr_%E7%9C%BC%E9%9C%9C_44_34\nhttp://item.jumeiglobal.com/ht20190909183734p4991860.html?from=sr_%E7%9C%BC%E9%9C%9C_44_35\nhttp://item.jumeiglobal.com/55193.html?from=sr_%E7%9C%BC%E9%9C%9C_44_36\n./htmls/data_45.html\nhttp://item.jumeiglobal.com/204814.html?from=sr_%E7%9C%BC%E9%9C%9C_45_1\nhttp://item.jumeiglobal.com/287520.html?from=sr_%E7%9C%BC%E9%9C%9C_45_2\nhttp://item.jumei.com/821471.html?from=sr_%E7%9C%BC%E9%9C%9C_45_3\nhttp://item.jumeiglobal.com/405456.html?from=sr_%E7%9C%BC%E9%9C%9C_45_4\nhttp://item.jumeiglobal.com/11205.html?from=sr_%E7%9C%BC%E9%9C%9C_45_5\nhttp://item.jumeiglobal.com/ht20200417111011p5172772.html?from=sr_%E7%9C%BC%E9%9C%9C_45_6\nhttp://item.jumeiglobal.com/1355.html?from=sr_%E7%9C%BC%E9%9C%9C_45_7\nhttp://item.jumeiglobal.com/60893.html?from=sr_%E7%9C%BC%E9%9C%9C_45_8\nhttp://item.jumeiglobal.com/922.html?from=sr_%E7%9C%BC%E9%9C%9C_45_9\nhttp://item.jumei.com/d181108p3921332zc.html?from=sr_%E7%9C%BC%E9%9C%9C_45_10\nhttp://item.jumeiglobal.com/57494.html?from=sr_%E7%9C%BC%E9%9C%9C_45_11\nhttp://item.jumei.com/457322.html?from=sr_%E7%9C%BC%E9%9C%9C_45_12\nhttp://item.jumei.com/4022012.html?from=sr_%E7%9C%BC%E9%9C%9C_45_13\nhttp://item.jumeiglobal.com/10626.html?from=sr_%E7%9C%BC%E9%9C%9C_45_14\nhttp://item.jumei.com/2684743.html?from=sr_%E7%9C%BC%E9%9C%9C_45_15\nhttp://item.jumei.com/d190228p2764999zc.html?from=sr_%E7%9C%BC%E9%9C%9C_45_16\nhttp://item.jumei.com/5127114.html?from=sr_%E7%9C%BC%E9%9C%9C_45_17\nhttp://item.jumeiglobal.com/245152.html?from=sr_%E7%9C%BC%E9%9C%9C_45_18\nhttp://item.jumei.com/734088.html?from=sr_%E7%9C%BC%E9%9C%9C_45_19\nhttp://item.jumeiglobal.com/ht180909p4275508t2.html?from=sr_%E7%9C%BC%E9%9C%9C_45_20\nhttp://item.jumei.com/d190507p3262038zc.html?from=sr_%E7%9C%BC%E9%9C%9C_45_21\nhttp://item.jumei.com/d180905p200951zc.html?from=sr_%E7%9C%BC%E9%9C%9C_45_22\nhttp://item.jumei.com/5048026.html?from=sr_%E7%9C%BC%E9%9C%9C_45_23\nhttp://item.jumei.com/d190228p2765007zc.html?from=sr_%E7%9C%BC%E9%9C%9C_45_24\nhttp://item.jumeiglobal.com/ht180618p1481136t2.html?from=sr_%E7%9C%BC%E9%9C%9C_45_25\nhttp://item.jumei.com/5128628.html?from=sr_%E7%9C%BC%E9%9C%9C_45_26\nhttp://item.jumei.com/4486918.html?from=sr_%E7%9C%BC%E9%9C%9C_45_27\nhttp://item.jumeiglobal.com/264492.html?from=sr_%E7%9C%BC%E9%9C%9C_45_28\nhttp://item.jumei.com/4433522.html?from=sr_%E7%9C%BC%E9%9C%9C_45_29\nhttp://item.jumei.com/5129792.html?from=sr_%E7%9C%BC%E9%9C%9C_45_30\nhttp://item.jumei.com/4134896.html?from=sr_%E7%9C%BC%E9%9C%9C_45_31\nhttp://item.jumei.com/5150492.html?from=sr_%E7%9C%BC%E9%9C%9C_45_32\nhttp://item.jumeiglobal.com/410970.html?from=sr_%E7%9C%BC%E9%9C%9C_45_33\nhttp://item.jumei.com/3725556.html?from=sr_%E7%9C%BC%E9%9C%9C_45_34\nhttp://item.jumei.com/5146538.html?from=sr_%E7%9C%BC%E9%9C%9C_45_35\nhttp://item.jumei.com/4999930.html?from=sr_%E7%9C%BC%E9%9C%9C_45_36\n./htmls/data_46.html\nhttp://item.jumei.com/3542590.html?from=sr_%E7%9C%BC%E9%9C%9C_46_1\nhttp://item.jumei.com/3631490.html?from=sr_%E7%9C%BC%E9%9C%9C_46_2\nhttp://item.jumei.com/3684374.html?from=sr_%E7%9C%BC%E9%9C%9C_46_3\nhttp://item.jumeiglobal.com/10709.html?from=sr_%E7%9C%BC%E9%9C%9C_46_4\nhttp://item.jumeiglobal.com/1041.html?from=sr_%E7%9C%BC%E9%9C%9C_46_5\nhttp://item.jumeiglobal.com/1158.html?from=sr_%E7%9C%BC%E9%9C%9C_46_6\nhttp://item.jumeiglobal.com/1174.html?from=sr_%E7%9C%BC%E9%9C%9C_46_7\nhttp://item.jumei.com/18054.html?from=sr_%E7%9C%BC%E9%9C%9C_46_8\nhttp://item.jumei.com/383541.html?from=sr_%E7%9C%BC%E9%9C%9C_46_9\nhttp://item.jumei.com/4206370.html?from=sr_%E7%9C%BC%E9%9C%9C_46_10\nhttp://item.jumei.com/4770118.html?from=sr_%E7%9C%BC%E9%9C%9C_46_11\nhttp://item.jumei.com/4915536.html?from=sr_%E7%9C%BC%E9%9C%9C_46_12\nhttp://item.jumei.com/5009452.html?from=sr_%E7%9C%BC%E9%9C%9C_46_13\nhttp://item.jumei.com/5071190.html?from=sr_%E7%9C%BC%E9%9C%9C_46_14\nhttp://item.jumeiglobal.com/356182.html?from=sr_%E7%9C%BC%E9%9C%9C_46_15\nhttp://item.jumeiglobal.com/356718.html?from=sr_%E7%9C%BC%E9%9C%9C_46_16\nhttp://item.jumeiglobal.com/357050.html?from=sr_%E7%9C%BC%E9%9C%9C_46_17\nhttp://item.jumeiglobal.com/369376.html?from=sr_%E7%9C%BC%E9%9C%9C_46_18\nhttp://item.jumeiglobal.com/369642.html?from=sr_%E7%9C%BC%E9%9C%9C_46_19\nhttp://item.jumeiglobal.com/370444.html?from=sr_%E7%9C%BC%E9%9C%9C_46_20\nhttp://item.jumeiglobal.com/398880.html?from=sr_%E7%9C%BC%E9%9C%9C_46_21\nhttp://item.jumeiglobal.com/399310.html?from=sr_%E7%9C%BC%E9%9C%9C_46_22\nhttp://item.jumeiglobal.com/405294.html?from=sr_%E7%9C%BC%E9%9C%9C_46_23\nhttp://item.jumeiglobal.com/405888.html?from=sr_%E7%9C%BC%E9%9C%9C_46_24\nhttp://item.jumeiglobal.com/411360.html?from=sr_%E7%9C%BC%E9%9C%9C_46_25\nhttp://item.jumeiglobal.com/413344.html?from=sr_%E7%9C%BC%E9%9C%9C_46_26\nhttp://item.jumeiglobal.com/416642.html?from=sr_%E7%9C%BC%E9%9C%9C_46_27\nhttp://item.jumeiglobal.com/416644.html?from=sr_%E7%9C%BC%E9%9C%9C_46_28\nhttp://item.jumeiglobal.com/416724.html?from=sr_%E7%9C%BC%E9%9C%9C_46_29\nhttp://item.jumeiglobal.com/416750.html?from=sr_%E7%9C%BC%E9%9C%9C_46_30\nhttp://item.jumeiglobal.com/419472.html?from=sr_%E7%9C%BC%E9%9C%9C_46_31\nhttp://item.jumeiglobal.com/425040.html?from=sr_%E7%9C%BC%E9%9C%9C_46_32\nhttp://item.jumeiglobal.com/425944.html?from=sr_%E7%9C%BC%E9%9C%9C_46_33\nhttp://item.jumeiglobal.com/426040.html?from=sr_%E7%9C%BC%E9%9C%9C_46_34\nhttp://item.jumeiglobal.com/ht20190825153749p4989948.html?from=sr_%E7%9C%BC%E9%9C%9C_46_35\nhttp://item.jumeiglobal.com/ht20200320110114p5150986.html?from=sr_%E7%9C%BC%E9%9C%9C_46_36\n./htmls/data_47.html\nhttp://item.jumeiglobal.com/ht20200323100515p5143996.html?from=sr_%E7%9C%BC%E9%9C%9C_47_1\nhttp://item.jumeiglobal.com/ht20200323100608p5146818.html?from=sr_%E7%9C%BC%E9%9C%9C_47_2\nhttp://item.jumeiglobal.com/ht20200323101030p5088512.html?from=sr_%E7%9C%BC%E9%9C%9C_47_3\nhttp://item.jumeiglobal.com/ht20200323101536p5151032.html?from=sr_%E7%9C%BC%E9%9C%9C_47_4\nhttp://item.jumeiglobal.com/ht20200402165645p5156258.html?from=sr_%E7%9C%BC%E9%9C%9C_47_5\nhttp://item.jumeiglobal.com/ht20200508191519p5184798.html?from=sr_%E7%9C%BC%E9%9C%9C_47_6\nhttp://item.jumei.com/5128026.html?from=sr_%E7%9C%BC%E9%9C%9C_47_7\nhttp://item.jumei.com/5128208.html?from=sr_%E7%9C%BC%E9%9C%9C_47_8\nhttp://item.jumei.com/5129336.html?from=sr_%E7%9C%BC%E9%9C%9C_47_9\nhttp://item.jumei.com/5129498.html?from=sr_%E7%9C%BC%E9%9C%9C_47_10\nhttp://item.jumei.com/5129502.html?from=sr_%E7%9C%BC%E9%9C%9C_47_11\nhttp://item.jumei.com/5129576.html?from=sr_%E7%9C%BC%E9%9C%9C_47_12\nhttp://item.jumei.com/5129578.html?from=sr_%E7%9C%BC%E9%9C%9C_47_13\nhttp://item.jumei.com/5130900.html?from=sr_%E7%9C%BC%E9%9C%9C_47_14\nhttp://item.jumei.com/5133240.html?from=sr_%E7%9C%BC%E9%9C%9C_47_15\nhttp://item.jumei.com/5136984.html?from=sr_%E7%9C%BC%E9%9C%9C_47_16\nhttp://item.jumei.com/5136998.html?from=sr_%E7%9C%BC%E9%9C%9C_47_17\nhttp://item.jumei.com/5141230.html?from=sr_%E7%9C%BC%E9%9C%9C_47_18\nhttp://item.jumei.com/5141362.html?from=sr_%E7%9C%BC%E9%9C%9C_47_19\nhttp://item.jumei.com/5157320.html?from=sr_%E7%9C%BC%E9%9C%9C_47_20\nhttp://item.jumei.com/5183116.html?from=sr_%E7%9C%BC%E9%9C%9C_47_21\nhttp://item.jumei.com/5194844.html?from=sr_%E7%9C%BC%E9%9C%9C_47_22\nhttp://item.jumeiglobal.com/421934.html?from=sr_%E7%9C%BC%E9%9C%9C_47_23\nhttp://item.jumeiglobal.com/422008.html?from=sr_%E7%9C%BC%E9%9C%9C_47_24\nhttp://item.jumei.com/df20061612646955p5166588.html?from=sr_%E7%9C%BC%E9%9C%9C_47_25\nhttp://item.jumei.com/df20061612646929p5166606.html?from=sr_%E7%9C%BC%E9%9C%9C_47_26\nhttp://item.jumeiglobal.com/424590.html?from=sr_%E7%9C%BC%E9%9C%9C_47_27\nhttp://item.jumei.com/df20060112570983p5116280.html?from=sr_%E7%9C%BC%E9%9C%9C_47_28\nhttp://item.jumeiglobal.com/411362.html?from=sr_%E7%9C%BC%E9%9C%9C_47_29\nhttp://item.jumeiglobal.com/379562.html?from=sr_%E7%9C%BC%E9%9C%9C_47_30\nhttp://item.jumei.com/5157330.html?from=sr_%E7%9C%BC%E9%9C%9C_47_31\nhttp://item.jumei.com/5205626.html?from=sr_%E7%9C%BC%E9%9C%9C_47_32\nhttp://item.jumei.com/df20061012628415p5201284.html?from=sr_%E7%9C%BC%E9%9C%9C_47_33\nhttp://item.jumei.com/df20060112577251p5171834.html?from=sr_%E7%9C%BC%E9%9C%9C_47_34\nhttp://item.jumeiglobal.com/410966.html?from=sr_%E7%9C%BC%E9%9C%9C_47_35\nhttp://item.jumei.com/d190228p1319682zc.html?from=sr_%E7%9C%BC%E9%9C%9C_47_36\n./htmls/data_48.html\nhttp://item.jumeiglobal.com/420058.html?from=sr_%E7%9C%BC%E9%9C%9C_48_1\nhttp://item.jumei.com/d181209p3562142zc.html?from=sr_%E7%9C%BC%E9%9C%9C_48_2\nhttp://item.jumeiglobal.com/318438.html?from=sr_%E7%9C%BC%E9%9C%9C_48_3\nhttp://item.jumeiglobal.com/410542.html?from=sr_%E7%9C%BC%E9%9C%9C_48_4\nhttp://item.jumeiglobal.com/9703.html?from=sr_%E7%9C%BC%E9%9C%9C_48_5\nhttp://item.jumeiglobal.com/ht20200323101114p5126230.html?from=sr_%E7%9C%BC%E9%9C%9C_48_6\nhttp://item.jumeiglobal.com/88906.html?from=sr_%E7%9C%BC%E9%9C%9C_48_7\nhttp://item.jumeiglobal.com/203506.html?from=sr_%E7%9C%BC%E9%9C%9C_48_8\nhttp://item.jumei.com/2598169.html?from=sr_%E7%9C%BC%E9%9C%9C_48_9\nhttp://item.jumeiglobal.com/386046.html?from=sr_%E7%9C%BC%E9%9C%9C_48_10\nhttp://item.jumeiglobal.com/389062.html?from=sr_%E7%9C%BC%E9%9C%9C_48_11\nhttp://item.jumeiglobal.com/44741.html?from=sr_%E7%9C%BC%E9%9C%9C_48_12\nhttp://item.jumeiglobal.com/ht20200428141022p4963844.html?from=sr_%E7%9C%BC%E9%9C%9C_48_13\nhttp://item.jumei.com/d180601p3566702zc.html?from=sr_%E7%9C%BC%E9%9C%9C_48_14\nhttp://item.jumei.com/d171204p1860zc.html?from=sr_%E7%9C%BC%E9%9C%9C_48_15\nhttp://item.jumeiglobal.com/366714.html?from=sr_%E7%9C%BC%E9%9C%9C_48_16\nhttp://item.jumeiglobal.com/371372.html?from=sr_%E7%9C%BC%E9%9C%9C_48_17\nhttp://item.jumeiglobal.com/246408.html?from=sr_%E7%9C%BC%E9%9C%9C_48_18\nhttp://item.jumeiglobal.com/227038.html?from=sr_%E7%9C%BC%E9%9C%9C_48_19\nhttp://item.jumeiglobal.com/219880.html?from=sr_%E7%9C%BC%E9%9C%9C_48_20\nhttp://item.jumei.com/4885656.html?from=sr_%E7%9C%BC%E9%9C%9C_48_21\nhttp://item.jumei.com/d190228p1319681zc.html?from=sr_%E7%9C%BC%E9%9C%9C_48_22\nhttp://item.jumei.com/df20061612645153p5205022.html?from=sr_%E7%9C%BC%E9%9C%9C_48_23\nhttp://item.jumei.com/5133884.html?from=sr_%E7%9C%BC%E9%9C%9C_48_24\nhttp://item.jumeiglobal.com/ht20200515114507p5184648.html?from=sr_%E7%9C%BC%E9%9C%9C_48_25\nhttp://item.jumei.com/5133880.html?from=sr_%E7%9C%BC%E9%9C%9C_48_26\nhttp://item.jumeiglobal.com/1170.html?from=sr_%E7%9C%BC%E9%9C%9C_48_27\nhttp://item.jumeiglobal.com/411726.html?from=sr_%E7%9C%BC%E9%9C%9C_48_28\nhttp://item.jumeiglobal.com/365926.html?from=sr_%E7%9C%BC%E9%9C%9C_48_29\nhttp://item.jumeiglobal.com/386048.html?from=sr_%E7%9C%BC%E9%9C%9C_48_30\n"
    }
   ],
   "source": [
    "#-------------------文件读取--------------------#\n",
    "data = []\n",
    "\n",
    "for i in range(1,49):\n",
    "    html = etree.parse(f'./htmls/data_{i}.html',parser = etree.HTMLParser(encoding='utf-8'))\n",
    "    print(f'./htmls/data_{i}.html')\n",
    "    items = html.xpath('//div[@class = \"products_wrap\"]/ul/li')\n",
    "    #-------------------文件解析------------------#\n",
    "    for item in items:\n",
    "        inside = item.xpath('.//div[@class = \"s_l_name\"]/a/@href')\n",
    "        print(inside[0])\n",
    "        \n",
    "        respond = requests.get(inside[0],headers = headers) \n",
    "            if respond.status_code == 200:\n",
    "                \n"
   ]
  }
 ]
}