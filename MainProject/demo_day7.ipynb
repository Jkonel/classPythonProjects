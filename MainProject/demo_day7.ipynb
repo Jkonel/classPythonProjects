{
 "nbformat": 4,
 "nbformat_minor": 2,
 "metadata": {
  "language_info": {
   "name": "python",
   "codemirror_mode": {
    "name": "ipython",
    "version": 3
   },
   "version": "3.8.1-final"
  },
  "orig_nbformat": 2,
  "file_extension": ".py",
  "mimetype": "text/x-python",
  "name": "python",
  "npconvert_exporter": "python",
  "pygments_lexer": "ipython3",
  "version": 3,
  "kernelspec": {
   "name": "python38164bitpytorchconda5ca5c260ccf143f3a30a360446f5e1fa",
   "display_name": "Python 3.8.1 64-bit ('pytorch': conda)"
  }
 },
 "cells": [
  {
   "cell_type": "markdown",
   "metadata": {},
   "source": [
    "# Numpy"
   ],
   "execution_count": null,
   "outputs": []
  },
  {
   "cell_type": "code",
   "execution_count": null,
   "metadata": {},
   "outputs": [],
   "source": [
    "import numpy as np\n",
    "\n",
    "\n",
    "print(np.random.rand())\n",
    "print(np.random.randn(4,5))\n",
    "print(np.random.randint(5,8))\n",
    "\n",
    "\n",
    "print(np.arange(0,20).reshape(2,10))\n",
    "\n",
    "\n",
    "print(np.empty((2.4)))\n",
    "print(np.zeros((5,2)))\n",
    "print(np.ones((2,5)))\n",
    "\n",
    "\n",
    "print(np.eye(5))\n"
   ]
  },
  {
   "cell_type": "code",
   "execution_count": null,
   "metadata": {},
   "outputs": [],
   "source": [
    "arr00 = np.random.randn(1,20)\n",
    "arr01 = np.arange(20)\n",
    "\n",
    "\n",
    "arr02 = arr00[(arr00>5)&(arr00<8)]\n",
    "\n",
    "print(arr00)\n",
    "print(arr01)\n",
    "print(arr02)"
   ]
  },
  {
   "cell_type": "code",
   "execution_count": null,
   "metadata": {},
   "outputs": [],
   "source": [
    "import numpy as np\n",
    "\n",
    "arr01 = np.arange(20)\n",
    "\n",
    "arr02 = arr01[(arr01%2==0)&(arr01>10)]\n",
    "\n",
    "print(arr02)\n",
    "\n",
    "\n",
    "arr03 = np.arange(60).reshape(6,10)\n",
    "print(arr03)\n",
    "\n",
    "arr04 = arr03[[2,4],2:6]\n",
    "\n",
    "print(arr04)\n"
   ]
  },
  {
   "cell_type": "code",
   "execution_count": null,
   "metadata": {},
   "outputs": [],
   "source": [
    "import numpy as np\n",
    "\n",
    "\n",
    "arr03 = np.arange(60).reshape(6,10)\n",
    "\n",
    "arr03.max()\n",
    "arr03.min()\n",
    "arr03.mean()\n",
    "arr03.std()\n",
    "arr03.var()\n",
    "arr03.T\n",
    "arr03.dot(arr03.T)#点乘\n",
    "\n",
    "A = np.matrix(arr03)\n",
    "print(A.I)"
   ]
  },
  {
   "cell_type": "markdown",
   "metadata": {},
   "source": [
    "# pandas"
   ],
   "execution_count": null,
   "outputs": []
  },
  {
   "cell_type": "code",
   "execution_count": null,
   "metadata": {},
   "outputs": [],
   "source": [
    "import pandas as pd\n",
    "\n",
    "\n",
    "\n",
    "\n"
   ]
  }
 ]
}