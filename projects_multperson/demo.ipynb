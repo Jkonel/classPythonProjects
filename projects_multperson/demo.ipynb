{
 "nbformat": 4,
 "nbformat_minor": 2,
 "metadata": {
  "language_info": {
   "name": "python",
   "codemirror_mode": {
    "name": "ipython",
    "version": 3
   },
   "version": "3.8.1-final"
  },
  "orig_nbformat": 2,
  "file_extension": ".py",
  "mimetype": "text/x-python",
  "name": "python",
  "npconvert_exporter": "python",
  "pygments_lexer": "ipython3",
  "version": 3,
  "kernelspec": {
   "name": "python38164bitpytorchconda5ca5c260ccf143f3a30a360446f5e1fa",
   "display_name": "Python 3.8.1 64-bit ('pytorch': conda)"
  }
 },
 "cells": [
  {
   "cell_type": "code",
   "execution_count": 2,
   "metadata": {},
   "outputs": [
    {
     "output_type": "execute_result",
     "data": {
      "text/plain": "        title          company  address      salery   date  salary_min  \\\n2    嵌入式硬件工程师     上海智显光电科技有限公司   上海-闵行区    10-15万/年  06-19      8333.0   \n8    嵌入式硬件工程师     上海熠速信息技术有限公司   上海-闵行区    1.2-3万/月  06-19     12000.0   \n15   嵌入式硬件工程师     上海箱箱物流科技有限公司   上海-徐汇区  1.5-2.5万/月  06-19     15000.0   \n18   嵌入式硬件工程师       上海恪成实业有限公司   上海-松江区    1-1.5万/月  06-19     10000.0   \n30   嵌入式硬件工程师  上海凯延计算机科技发展有限公司   上海-嘉定区  0.8-1.6万/月  06-19      8000.0   \n..        ...              ...      ...         ...    ...         ...   \n830  嵌入式硬件工程师    天鲜配（上海）科技有限公司   上海-闵行区    2.5-3万/月  06-17     25000.0   \n841  嵌入式硬件工程师     北京纳米维景科技有限公司  上海-浦东新区    1-2.5万/月  06-16     10000.0   \n846  嵌入式硬件工程师     上海企想信息技术有限公司   上海-宝山区      6-8千/月  06-16      6000.0   \n858  嵌入式硬件工程师   上海金网通信技术发展有限公司   上海-松江区  0.8-1.5万/月  06-16      8000.0   \n867  嵌入式硬件工程师     上海朝辉压力仪器有限公司   上海-松江区  0.8-1.5万/月  06-19      8000.0   \n\n     salary_max provence city  area  \n2       12500.0      上海市   上海   闵行区  \n8       30000.0      上海市   上海   闵行区  \n15      25000.0      上海市   上海   徐汇区  \n18      15000.0      上海市   上海   松江区  \n30      16000.0      上海市   上海   嘉定区  \n..          ...      ...  ...   ...  \n830     30000.0      上海市   上海   闵行区  \n841     25000.0      上海市   上海  浦东新区  \n846      8000.0      上海市   上海   宝山区  \n858     15000.0      上海市   上海   松江区  \n867     15000.0      上海市   上海   松江区  \n\n[101 rows x 10 columns]",
      "text/html": "<div>\n<style scoped>\n    .dataframe tbody tr th:only-of-type {\n        vertical-align: middle;\n    }\n\n    .dataframe tbody tr th {\n        vertical-align: top;\n    }\n\n    .dataframe thead th {\n        text-align: right;\n    }\n</style>\n<table border=\"1\" class=\"dataframe\">\n  <thead>\n    <tr style=\"text-align: right;\">\n      <th></th>\n      <th>title</th>\n      <th>company</th>\n      <th>address</th>\n      <th>salery</th>\n      <th>date</th>\n      <th>salary_min</th>\n      <th>salary_max</th>\n      <th>provence</th>\n      <th>city</th>\n      <th>area</th>\n    </tr>\n  </thead>\n  <tbody>\n    <tr>\n      <th>2</th>\n      <td>嵌入式硬件工程师</td>\n      <td>上海智显光电科技有限公司</td>\n      <td>上海-闵行区</td>\n      <td>10-15万/年</td>\n      <td>06-19</td>\n      <td>8333.0</td>\n      <td>12500.0</td>\n      <td>上海市</td>\n      <td>上海</td>\n      <td>闵行区</td>\n    </tr>\n    <tr>\n      <th>8</th>\n      <td>嵌入式硬件工程师</td>\n      <td>上海熠速信息技术有限公司</td>\n      <td>上海-闵行区</td>\n      <td>1.2-3万/月</td>\n      <td>06-19</td>\n      <td>12000.0</td>\n      <td>30000.0</td>\n      <td>上海市</td>\n      <td>上海</td>\n      <td>闵行区</td>\n    </tr>\n    <tr>\n      <th>15</th>\n      <td>嵌入式硬件工程师</td>\n      <td>上海箱箱物流科技有限公司</td>\n      <td>上海-徐汇区</td>\n      <td>1.5-2.5万/月</td>\n      <td>06-19</td>\n      <td>15000.0</td>\n      <td>25000.0</td>\n      <td>上海市</td>\n      <td>上海</td>\n      <td>徐汇区</td>\n    </tr>\n    <tr>\n      <th>18</th>\n      <td>嵌入式硬件工程师</td>\n      <td>上海恪成实业有限公司</td>\n      <td>上海-松江区</td>\n      <td>1-1.5万/月</td>\n      <td>06-19</td>\n      <td>10000.0</td>\n      <td>15000.0</td>\n      <td>上海市</td>\n      <td>上海</td>\n      <td>松江区</td>\n    </tr>\n    <tr>\n      <th>30</th>\n      <td>嵌入式硬件工程师</td>\n      <td>上海凯延计算机科技发展有限公司</td>\n      <td>上海-嘉定区</td>\n      <td>0.8-1.6万/月</td>\n      <td>06-19</td>\n      <td>8000.0</td>\n      <td>16000.0</td>\n      <td>上海市</td>\n      <td>上海</td>\n      <td>嘉定区</td>\n    </tr>\n    <tr>\n      <th>...</th>\n      <td>...</td>\n      <td>...</td>\n      <td>...</td>\n      <td>...</td>\n      <td>...</td>\n      <td>...</td>\n      <td>...</td>\n      <td>...</td>\n      <td>...</td>\n      <td>...</td>\n    </tr>\n    <tr>\n      <th>830</th>\n      <td>嵌入式硬件工程师</td>\n      <td>天鲜配（上海）科技有限公司</td>\n      <td>上海-闵行区</td>\n      <td>2.5-3万/月</td>\n      <td>06-17</td>\n      <td>25000.0</td>\n      <td>30000.0</td>\n      <td>上海市</td>\n      <td>上海</td>\n      <td>闵行区</td>\n    </tr>\n    <tr>\n      <th>841</th>\n      <td>嵌入式硬件工程师</td>\n      <td>北京纳米维景科技有限公司</td>\n      <td>上海-浦东新区</td>\n      <td>1-2.5万/月</td>\n      <td>06-16</td>\n      <td>10000.0</td>\n      <td>25000.0</td>\n      <td>上海市</td>\n      <td>上海</td>\n      <td>浦东新区</td>\n    </tr>\n    <tr>\n      <th>846</th>\n      <td>嵌入式硬件工程师</td>\n      <td>上海企想信息技术有限公司</td>\n      <td>上海-宝山区</td>\n      <td>6-8千/月</td>\n      <td>06-16</td>\n      <td>6000.0</td>\n      <td>8000.0</td>\n      <td>上海市</td>\n      <td>上海</td>\n      <td>宝山区</td>\n    </tr>\n    <tr>\n      <th>858</th>\n      <td>嵌入式硬件工程师</td>\n      <td>上海金网通信技术发展有限公司</td>\n      <td>上海-松江区</td>\n      <td>0.8-1.5万/月</td>\n      <td>06-16</td>\n      <td>8000.0</td>\n      <td>15000.0</td>\n      <td>上海市</td>\n      <td>上海</td>\n      <td>松江区</td>\n    </tr>\n    <tr>\n      <th>867</th>\n      <td>嵌入式硬件工程师</td>\n      <td>上海朝辉压力仪器有限公司</td>\n      <td>上海-松江区</td>\n      <td>0.8-1.5万/月</td>\n      <td>06-19</td>\n      <td>8000.0</td>\n      <td>15000.0</td>\n      <td>上海市</td>\n      <td>上海</td>\n      <td>松江区</td>\n    </tr>\n  </tbody>\n</table>\n<p>101 rows × 10 columns</p>\n</div>"
     },
     "metadata": {},
     "execution_count": 2
    }
   ],
   "source": [
    "import pandas as pd\n",
    "import numpy as np\n",
    "\n",
    "data_frame = pd.read_csv('../embeded_hardware_salary_norm_add_provence_city_area_del_none.csv')\n",
    "\n",
    "res = data_frame.loc[data_frame['provence']=='上海市']\n",
    "\n",
    "res\n",
    ""
   ]
  },
  {
   "cell_type": "code",
   "execution_count": 5,
   "metadata": {},
   "outputs": [
    {
     "output_type": "stream",
     "name": "stdout",
     "text": "['java', 'python']\n[['广东', 2222], ['江苏', 2555], ['山东', 5000], ['宁夏', 2200], ['西藏', 3000]]\n"
    }
   ],
   "source": [
    "    \n",
    "data = [\n",
    "    {\n",
    "        'job':'java',\n",
    "        'data': [\n",
    "            {\"province\": \"广东\", \"value\": 2222},\n",
    "            {\"province\": \"江苏\", \"value\": 2555},\n",
    "            {\"province\": \"山东\", \"value\": 5000},\n",
    "            #.............#\n",
    "            {\"province\": \"宁夏\", \"value\": 2200},\n",
    "            {\"province\": \"西藏\", \"value\": 3000}\n",
    "            ]\n",
    "    },\n",
    "    {\n",
    "        'job':'python',\n",
    "        'data': [\n",
    "            {\"province\": \"广东\", \"value\": 2222},\n",
    "            {\"province\": \"江苏\", \"value\": 2555},\n",
    "            {\"province\": \"山东\", \"value\": 5000},\n",
    "            #.............#\n",
    "            {\"province\": \"宁夏\", \"value\": 2200},\n",
    "            {\"province\": \"西藏\", \"value\": 3000}\n",
    "            ]\n",
    "    },\n",
    "]\n",
    "\n",
    "name = [x['job'] for x in data]\n",
    "a = [ [[x['province'],x['value']] for x in d['data'] ] for d in data]\n",
    "\n",
    "\n",
    "print(name)\n",
    "print(a[1])\n",
    ""
   ]
  }
 ]
}